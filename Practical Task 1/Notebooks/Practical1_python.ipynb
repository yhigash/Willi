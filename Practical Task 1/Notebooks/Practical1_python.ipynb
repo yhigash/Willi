{
 "cells": [
  {
   "cell_type": "markdown",
   "metadata": {
    "colab_type": "text",
    "id": "sABYY5OgGPLe"
   },
   "source": [
    "# Foundations of Data Science: Practical 1 - Python Tutorials\n",
    "\n"
   ]
  },
  {
   "cell_type": "markdown",
   "metadata": {
    "colab_type": "text",
    "id": "Xi2OMxW2Gww4"
   },
   "source": [
    "## Python 3 vs. Python 2\n",
    "\n",
    "The core development team will no longer support, update or provide new versions of Python 2 as of January 1, 2020.  \n",
    "\n",
    "Please use Python 3 for your practical tasks. "
   ]
  },
  {
   "cell_type": "markdown",
   "metadata": {
    "colab_type": "text",
    "id": "XBsHSF52Hvnb"
   },
   "source": [
    "## Data Types by Examples\n",
    "\n",
    "- Numbers\n",
    "- Booleans\n",
    "- Lists\n",
    "- Tuples\n",
    "- Sets\n",
    "- Dictionaries\n",
    "- Text"
   ]
  },
  {
   "cell_type": "markdown",
   "metadata": {
    "colab_type": "text",
    "id": "PaLxh2uGJf9f"
   },
   "source": [
    "### Numbers"
   ]
  },
  {
   "cell_type": "code",
   "execution_count": 2,
   "metadata": {
    "colab": {
     "base_uri": "https://localhost:8080/",
     "height": 119
    },
    "colab_type": "code",
    "executionInfo": {
     "elapsed": 1746,
     "status": "ok",
     "timestamp": 1596440165017,
     "user": {
      "displayName": "Haozhe Zhang",
      "photoUrl": "https://lh3.googleusercontent.com/a-/AOh14GhewCb1FImnjURCLugyfalL8wVXJomnuoEHUckN=s64",
      "userId": "15943369882491692800"
     },
     "user_tz": -480
    },
    "id": "9rJx3xSiJpqQ",
    "outputId": "baa0e93c-8866-4749-f2fe-a914b9ef0910"
   },
   "outputs": [
    {
     "name": "stdout",
     "output_type": "stream",
     "text": [
      "a = 10\n",
      "b = 0.5\n",
      "a + b = 10.5\n",
      "float(a) = 10.0\n",
      "int(b) = 0\n",
      "'hello ' + str(b) = hello 0.5\n"
     ]
    }
   ],
   "source": [
    "# integers and float numbers\n",
    "a = 10\n",
    "b = 0.5\n",
    "\n",
    "print(\"a =\", a)\n",
    "print(\"b =\", b)\n",
    "print(\"a + b =\", a + b)\n",
    "\n",
    "# variable casting\n",
    "# converting integers to float numbers or vice versa\n",
    "print(\"float(a) =\", float(a))\n",
    "print(\"int(b) =\", int(b))\n",
    "print(\"'hello ' + str(b) =\", 'hello ' + str(b))  # convert b from number to string"
   ]
  },
  {
   "cell_type": "code",
   "execution_count": 7,
   "metadata": {
    "colab": {
     "base_uri": "https://localhost:8080/",
     "height": 289
    },
    "colab_type": "code",
    "executionInfo": {
     "elapsed": 919,
     "status": "ok",
     "timestamp": 1596440425222,
     "user": {
      "displayName": "Haozhe Zhang",
      "photoUrl": "https://lh3.googleusercontent.com/a-/AOh14GhewCb1FImnjURCLugyfalL8wVXJomnuoEHUckN=s64",
      "userId": "15943369882491692800"
     },
     "user_tz": -480
    },
    "id": "TyIZjvwMKYPn",
    "outputId": "b0195883-5878-44d1-ce09-9155250edee5"
   },
   "outputs": [
    {
     "name": "stdout",
     "output_type": "stream",
     "text": [
      "Given a =  10\n",
      "\n",
      "Arithmetic operators:\n",
      "a + 1 = 11\n",
      "a - 2 = 8\n",
      "a * 5 = 50\n",
      "a / 3 = 3.3333333333333335\n",
      "a // 3 = 3\n",
      "a % 3 = 1\n",
      "a ** 2 = 100\n",
      "\n",
      "---------------\n",
      "\n",
      "a = 10\n",
      "After a += 1; a = 11\n",
      "After a *= 2; a = 22\n"
     ]
    }
   ],
   "source": [
    "a = 10\n",
    "print(\"Given a = \", a)\n",
    "\n",
    "print()\n",
    "\n",
    "# arithmetic operators in python\n",
    "print(\"Arithmetic operators:\")\n",
    "print(\"a + 1 =\", a + 1)\n",
    "print(\"a - 2 =\", a - 2)\n",
    "print(\"a * 5 =\", a * 5)\n",
    "print(\"a / 3 =\", a / 3)\n",
    "print(\"a // 3 =\", a // 3) # floor division\n",
    "print(\"a % 3 =\", a % 3) # modulus\n",
    "print(\"a ** 2 =\", a ** 2) # expoentiation \n",
    "\n",
    "print(\"\\n---------------\\n\")\n",
    "\n",
    "# self addition and multiplication\n",
    "print(\"a =\", a)\n",
    "a += 1\n",
    "print(\"After a += 1;\", \"a =\", a)\n",
    "a *= 2\n",
    "print(\"After a *= 2;\", \"a =\", a)\n"
   ]
  },
  {
   "cell_type": "markdown",
   "metadata": {
    "colab_type": "text",
    "id": "hp_NP_J_Lpo6"
   },
   "source": [
    "### Booleans"
   ]
  },
  {
   "cell_type": "code",
   "execution_count": 12,
   "metadata": {
    "colab": {
     "base_uri": "https://localhost:8080/",
     "height": 204
    },
    "colab_type": "code",
    "executionInfo": {
     "elapsed": 792,
     "status": "ok",
     "timestamp": 1596440552285,
     "user": {
      "displayName": "Haozhe Zhang",
      "photoUrl": "https://lh3.googleusercontent.com/a-/AOh14GhewCb1FImnjURCLugyfalL8wVXJomnuoEHUckN=s64",
      "userId": "15943369882491692800"
     },
     "user_tz": -480
    },
    "id": "aK8h9xC3L75l",
    "outputId": "7a7b0e90-1f68-43ea-cec1-0394b5138baf"
   },
   "outputs": [
    {
     "name": "stdout",
     "output_type": "stream",
     "text": [
      "Boolean values\n",
      "a = True\n",
      "b = False\n",
      "----------------\n",
      "a and b = False\n",
      "a or b = True\n",
      "not a = False\n",
      "----------------\n",
      "10 <= 9 = False\n",
      "1 == 1 = True\n",
      "\"abc\" != \"abc\" = False\n"
     ]
    }
   ],
   "source": [
    "# True or False\n",
    "print(\"Boolean values\")\n",
    "a = True\n",
    "b = False\n",
    "print(\"a =\", a)\n",
    "print(\"b =\", b)\n",
    "\n",
    "\n",
    "print(\"----------------\")\n",
    "\n",
    "# Boolean operators\n",
    "print(\"a and b =\", a and b)\n",
    "print(\"a or b =\", a or b)\n",
    "print(\"not a =\", not a)\n",
    "\n",
    "print(\"----------------\")\n",
    "\n",
    "# comparison\n",
    "print('10 <= 9 =', 10 <= 9)\n",
    "print('1 == 1 =', 1 == 1)\n",
    "print('\"abc\" != \"abc\" =', \"abc\" != \"abc\")\n"
   ]
  },
  {
   "cell_type": "markdown",
   "metadata": {
    "colab_type": "text",
    "id": "nlw72p88Lybd"
   },
   "source": [
    "### Lists"
   ]
  },
  {
   "cell_type": "code",
   "execution_count": 24,
   "metadata": {
    "colab": {
     "base_uri": "https://localhost:8080/",
     "height": 476
    },
    "colab_type": "code",
    "executionInfo": {
     "elapsed": 757,
     "status": "ok",
     "timestamp": 1596440909227,
     "user": {
      "displayName": "Haozhe Zhang",
      "photoUrl": "https://lh3.googleusercontent.com/a-/AOh14GhewCb1FImnjURCLugyfalL8wVXJomnuoEHUckN=s64",
      "userId": "15943369882491692800"
     },
     "user_tz": -480
    },
    "id": "XG5jD14sNOla",
    "outputId": "770b2b55-d435-4de4-b2bf-0bf0ccb07aed"
   },
   "outputs": [
    {
     "name": "stdout",
     "output_type": "stream",
     "text": [
      "xs: [1, 2, 2, 3, 3, 4, 5, 6, 7]\n",
      "length of xs:  9\n",
      "\n",
      "----------\n",
      "\n",
      "The first element of xs\n",
      "xs[0]:  1\n",
      "\n",
      "Take the elements with indeces from 1 to 4. Note the element with index 5 (6th) is excluded.\n",
      "xs[1:5]:  [2, 2, 3, 3]\n",
      "\n",
      "xs[:2] is equivalent to xs[0:2], which takes the first two elements\n",
      "xs[:2]:  [1, 2]\n",
      "\n",
      "Take the last element of xs\n",
      "xs[-1]:  7\n",
      "\n",
      "--------------\n",
      "\n",
      "Update the second element by xs[1] = -2\n",
      "xs = [1, -2, 2, 3, 3, 4, 5, 6, 7]\n",
      "\n",
      "-------------\n",
      "\n",
      "Check whether a value is in xs\n",
      "-4 in xs = False\n",
      "1 in xs = True\n"
     ]
    }
   ],
   "source": [
    "# allow duplicate members\n",
    "xs = [1,2,2,3,3,4,5,6,7]\n",
    "print(\"xs:\", xs)\n",
    "print(\"length of xs: \", len(xs)) \n",
    "\n",
    "print(\"\\n----------\\n\")\n",
    "\n",
    "# indexing\n",
    "print(\"The first element of xs\")\n",
    "print(\"xs[0]: \", xs[0]) \n",
    "print()\n",
    "print(\"Take the elements with indeces from 1 to 4. Note the element with index 5 (6th) is excluded.\")\n",
    "print(\"xs[1:5]: \", xs[1:5]) # \n",
    "print()\n",
    "\n",
    "print(\"xs[:2] is equivalent to xs[0:2], which takes the first two elements\")\n",
    "print(\"xs[:2]: \", xs[:2])\n",
    "print()\n",
    "\n",
    "print(\"Take the last element of xs\")\n",
    "print(\"xs[-1]: \", xs[-1])\n",
    "print()\n",
    "# print(xs[-2:-1]) -2 <= i < -1\n",
    "\n",
    "print(\"--------------\\n\")\n",
    "\n",
    "\n",
    "# update\n",
    "print(\"Update the second element by xs[1] = -2\")\n",
    "xs[1] = -2\n",
    "print(\"xs =\", xs)\n",
    "\n",
    "print(\"\\n-------------\\n\")\n",
    "\n",
    "# check existence\n",
    "print(\"Check whether a value is in xs\")\n",
    "print(\"-4 in xs =\", -4 in xs)\n",
    "print(\"1 in xs =\", 1 in xs)\n"
   ]
  },
  {
   "cell_type": "code",
   "execution_count": 27,
   "metadata": {
    "colab": {
     "base_uri": "https://localhost:8080/",
     "height": 425
    },
    "colab_type": "code",
    "executionInfo": {
     "elapsed": 925,
     "status": "ok",
     "timestamp": 1596440996457,
     "user": {
      "displayName": "Haozhe Zhang",
      "photoUrl": "https://lh3.googleusercontent.com/a-/AOh14GhewCb1FImnjURCLugyfalL8wVXJomnuoEHUckN=s64",
      "userId": "15943369882491692800"
     },
     "user_tz": -480
    },
    "id": "jl9NDwsou-hr",
    "outputId": "619013fe-f16e-4428-ba7a-ffe273fbc438"
   },
   "outputs": [
    {
     "name": "stdout",
     "output_type": "stream",
     "text": [
      "Given the list xs = [1, -2, 2, 3, 3, 4, 5, 6, 7]\n",
      "Iterate the values using for loop: for x in xs\n",
      "1\n",
      "4\n",
      "4\n",
      "9\n",
      "9\n",
      "16\n",
      "25\n",
      "36\n",
      "49\n",
      "\n",
      "-----------------\n",
      "\n",
      "Iterate the values and indeces:\n",
      "0 : 1\n",
      "1 : -2\n",
      "2 : 2\n",
      "3 : 3\n",
      "4 : 3\n",
      "5 : 4\n",
      "6 : 5\n",
      "7 : 6\n",
      "8 : 7\n"
     ]
    }
   ],
   "source": [
    "# loop\n",
    "print(\"Given the list xs =\", xs)\n",
    "\n",
    "print(\"Iterate the values using for loop: for x in xs\")\n",
    "for x in xs: # for each element x in xs\n",
    "  print(x ** 2) # x^2\n",
    "\n",
    "print(\"\\n-----------------\\n\")\n",
    "\n",
    "# loop with index\n",
    "print(\"Iterate the values and indeces:\")\n",
    "for i, x in enumerate(xs):\n",
    "  print(i, \":\", x)\n",
    "\n",
    "# TODO: how to iterate the data"
   ]
  },
  {
   "cell_type": "code",
   "execution_count": 35,
   "metadata": {
    "colab": {
     "base_uri": "https://localhost:8080/",
     "height": 714
    },
    "colab_type": "code",
    "executionInfo": {
     "elapsed": 732,
     "status": "ok",
     "timestamp": 1596444642332,
     "user": {
      "displayName": "Haozhe Zhang",
      "photoUrl": "https://lh3.googleusercontent.com/a-/AOh14GhewCb1FImnjURCLugyfalL8wVXJomnuoEHUckN=s64",
      "userId": "15943369882491692800"
     },
     "user_tz": -480
    },
    "id": "-e246wYumA0P",
    "outputId": "b525a131-5c91-48d8-e7ce-a706630c4631"
   },
   "outputs": [
    {
     "name": "stdout",
     "output_type": "stream",
     "text": [
      "Given the list xs = [1, 2, 3, 4, 5, 6, 7, 8, 9]\n",
      "\n",
      "-------------\n",
      "\n",
      "max(xs) = 9\n",
      "min(xs) = 1\n",
      "\n",
      "-------------\n",
      "\n",
      "Append a value to the end of xs by xs.append(5)\n",
      "xs = [1, 2, 3, 4, 5, 6, 7, 8, 9, 5]\n",
      "\n",
      "-------------\n",
      "\n",
      "Remove the last value of xs by xs.pop()\n",
      "xs = [1, 2, 3, 4, 5, 6, 7, 8, 9]\n",
      "\n",
      "-------------\n",
      "\n",
      "Remove the value with index 0: del[0]\n",
      "xs = [2, 3, 4, 5, 6, 7, 8, 9]\n",
      "\n",
      "-------------\n",
      "\n",
      "Concatenation of lists\n",
      "xs + [5,6,7,8] = [2, 3, 4, 5, 6, 7, 8, 9, 5, 6, 7, 8]\n",
      "\n",
      "-------------\n",
      "\n",
      "Reverse of xs by xs.reverse()\n",
      "xs: [9, 8, 7, 6, 5, 4, 3, 2]\n",
      "\n",
      "-------------\n",
      "\n",
      "Sort xs with ascending order by xs.sort()\n",
      "xs: [2, 3, 4, 5, 6, 7, 8, 9]\n",
      "\n",
      "-------------\n",
      "\n",
      "Sort xs with descending order by xs.sort()\n",
      "xs: [9, 8, 7, 6, 5, 4, 3, 2]\n"
     ]
    }
   ],
   "source": [
    "# Useful functions for lists in Python\n",
    "xs = [1,2,3,4,5,6,7,8,9]\n",
    "print(\"Given the list xs =\", xs)\n",
    "print(\"\\n-------------\\n\")\n",
    "print(\"max(xs) =\", max(xs)) # take the maximum value of xs\n",
    "print(\"min(xs) =\", min(xs)) # take the minimum value of xs\n",
    "\n",
    "print(\"\\n-------------\\n\")\n",
    "print(\"Append a value to the end of xs by xs.append(5)\")\n",
    "xs.append(5)\n",
    "print(\"xs =\", xs)\n",
    "\n",
    "print(\"\\n-------------\\n\")\n",
    "print(\"Remove the last value of xs by xs.pop()\")\n",
    "xs.pop()\n",
    "print(\"xs =\", xs)\n",
    "\n",
    "print(\"\\n-------------\\n\")\n",
    "print(\"Remove the value with index 0: del[0]\")\n",
    "del xs[0] # remove the value with index 0\n",
    "print(\"xs =\", xs)\n",
    "\n",
    "print(\"\\n-------------\\n\")\n",
    "print(\"Concatenation of lists\")\n",
    "print(\"xs + [5,6,7,8] =\", xs + [5,6,7,8]) # concatenation\n",
    "\n",
    "\n",
    "print(\"\\n-------------\\n\")\n",
    "print(\"Reverse of xs by xs.reverse()\")\n",
    "xs.reverse()\n",
    "print(\"xs:\", xs)\n",
    "\n",
    "print(\"\\n-------------\\n\")\n",
    "print(\"Sort xs with ascending order by xs.sort()\")\n",
    "xs.sort() # ASC\n",
    "print(\"xs:\", xs) \n",
    "\n",
    "print(\"\\n-------------\\n\")\n",
    "print(\"Sort xs with descending order by xs.sort()\")\n",
    "xs.sort(reverse=True) # DESC\n",
    "print(\"xs:\", xs)\n",
    "\n",
    "# TODO: add the print"
   ]
  },
  {
   "cell_type": "code",
   "execution_count": 40,
   "metadata": {
    "colab": {
     "base_uri": "https://localhost:8080/",
     "height": 323
    },
    "colab_type": "code",
    "executionInfo": {
     "elapsed": 801,
     "status": "ok",
     "timestamp": 1596445494898,
     "user": {
      "displayName": "Haozhe Zhang",
      "photoUrl": "https://lh3.googleusercontent.com/a-/AOh14GhewCb1FImnjURCLugyfalL8wVXJomnuoEHUckN=s64",
      "userId": "15943369882491692800"
     },
     "user_tz": -480
    },
    "id": "m5j-2m-tuLjt",
    "outputId": "efc70aec-0062-4d28-b515-5450760bcedb"
   },
   "outputs": [
    {
     "name": "stdout",
     "output_type": "stream",
     "text": [
      "Given a list xs = [5, 4, 3, 3, 2, -2]\n",
      "\n",
      "---------------\n",
      "\n",
      "How to create a list that has each element of xs doubled?\n",
      "\n",
      "Solution 1: for loop\n",
      "ys = [10, 8, 6, 6, 4, -4]\n",
      "\n",
      "---------------\n",
      "\n",
      "Solution 2: list comprehension\n",
      "ys = [x * 2 for x in xs] = [10, 8, 6, 6, 4, -4]\n",
      "\n",
      "---------------\n",
      "\n",
      "Use list comprehension with conditions\n",
      "ys = [x * 2 for x in xs if x > 0] = [10, 8, 6, 6, 4]\n"
     ]
    }
   ],
   "source": [
    "# List comprehensions\n",
    "xs = [5, 4, 3, 3, 2, -2]\n",
    "print(\"Given a list xs =\", xs)\n",
    "\n",
    "print(\"\\n---------------\\n\")\n",
    "\n",
    "print(\"How to create a list that has each element of xs doubled?\\n\")\n",
    "\n",
    "print(\"Solution 1: for loop\")\n",
    "ys = []\n",
    "for x in xs:\n",
    "  ys.append(x * 2)\n",
    "print(\"ys =\", ys)\n",
    "\n",
    "print(\"\\n---------------\\n\")\n",
    "\n",
    "print(\"Solution 2: list comprehension\")\n",
    "\n",
    "ys = [x * 2 for x in xs] # using list comprehension\n",
    "print(\"ys = [x * 2 for x in xs] =\", ys)\n",
    "\n",
    "print(\"\\n---------------\\n\")\n",
    "\n",
    "print(\"Use list comprehension with conditions\")\n",
    "# we process only positive values in xs\n",
    "ys = [x * 2 for x in xs if x > 0] # we want only positive elements in xs\n",
    "print(\"ys = [x * 2 for x in xs if x > 0] =\", ys)\n"
   ]
  },
  {
   "cell_type": "markdown",
   "metadata": {
    "colab_type": "text",
    "id": "UwOTfVU3IYDp"
   },
   "source": [
    "### Text: `str`"
   ]
  },
  {
   "cell_type": "code",
   "execution_count": null,
   "metadata": {
    "colab": {
     "base_uri": "https://localhost:8080/"
    },
    "colab_type": "code",
    "executionInfo": {
     "elapsed": 1372,
     "status": "ok",
     "timestamp": 1593714072195,
     "user": {
      "displayName": "Haozhe Zhang",
      "photoUrl": "https://lh3.googleusercontent.com/a-/AOh14GhewCb1FImnjURCLugyfalL8wVXJomnuoEHUckN=s64",
      "userId": "15943369882491692800"
     },
     "user_tz": -480
    },
    "id": "ZKY1_qGvuKo9",
    "outputId": "3b3a73e0-d1df-4e43-b851-3d809d5200d8"
   },
   "outputs": [
    {
     "name": "stdout",
     "output_type": "stream",
     "text": [
      "Hello World\n"
     ]
    }
   ],
   "source": [
    "# init a string \n",
    "s = \"Hello World\"\n",
    "print(s)"
   ]
  },
  {
   "cell_type": "code",
   "execution_count": null,
   "metadata": {
    "colab": {
     "base_uri": "https://localhost:8080/"
    },
    "colab_type": "code",
    "executionInfo": {
     "elapsed": 1367,
     "status": "ok",
     "timestamp": 1593714072196,
     "user": {
      "displayName": "Haozhe Zhang",
      "photoUrl": "https://lh3.googleusercontent.com/a-/AOh14GhewCb1FImnjURCLugyfalL8wVXJomnuoEHUckN=s64",
      "userId": "15943369882491692800"
     },
     "user_tz": -480
    },
    "id": "a5XLW5qeJSQ6",
    "outputId": "65e1a7aa-0e58-438e-d4e9-e097aa391581"
   },
   "outputs": [
    {
     "name": "stdout",
     "output_type": "stream",
     "text": [
      "this is a\n",
      "multipleline \n",
      "string\n",
      "\n"
     ]
    }
   ],
   "source": [
    "# init a string with multiple lines\n",
    "s = \"\"\"this is a\n",
    "multipleline \n",
    "string\n",
    "\"\"\"\n",
    "print(s)"
   ]
  },
  {
   "cell_type": "code",
   "execution_count": 49,
   "metadata": {
    "colab": {
     "base_uri": "https://localhost:8080/",
     "height": 442
    },
    "colab_type": "code",
    "executionInfo": {
     "elapsed": 788,
     "status": "ok",
     "timestamp": 1596445955698,
     "user": {
      "displayName": "Haozhe Zhang",
      "photoUrl": "https://lh3.googleusercontent.com/a-/AOh14GhewCb1FImnjURCLugyfalL8wVXJomnuoEHUckN=s64",
      "userId": "15943369882491692800"
     },
     "user_tz": -480
    },
    "id": "UhYIQl4dJVpg",
    "outputId": "2aaede6a-38a7-4519-af54-512b2dd17d5e"
   },
   "outputs": [
    {
     "name": "stdout",
     "output_type": "stream",
     "text": [
      "Given the string s = Foundations of Data Science\n",
      "\n",
      "-----------------\n",
      "\n",
      "Select the first 10 characters by s[:10]\n",
      "s[:10] = Foundation\n",
      "\n",
      "-----------------\n",
      "\n",
      "Split the string s by space\n",
      "s.split(\" \") = ['Foundations', 'of', 'Data', 'Science']\n",
      "\n",
      "-----------------\n",
      "\n",
      "Check whether s ends with 'Science'\n",
      "s.endswith(\"Science\") = True\n",
      "\n",
      "-----------------\n",
      "\n",
      "Merges the sub-strings\n",
      "\" \".join([\"Foundations\", \"of\", \"Data\", \"Science\"]) = Foundations of Data Science\n",
      "\n",
      "-----------------\n",
      "\n",
      "My name is Haozhe. I am 26.\n"
     ]
    }
   ],
   "source": [
    "# strings are arrays of characters\n",
    "s = \"Foundations of Data Science\"\n",
    "print(\"Given the string s =\", s)\n",
    "\n",
    "print(\"\\n-----------------\\n\")\n",
    "\n",
    "# indexing\n",
    "# select first 10 characters \n",
    "print(\"Select the first 10 characters by s[:10]\")\n",
    "print(\"s[:10] =\", s[:10])\n",
    "\n",
    "print(\"\\n-----------------\\n\")\n",
    "\n",
    "# split the string to lists of strings by the given delimiter \n",
    "print(\"Split the string s by space\")\n",
    "print('s.split(\" \") =', s.split(\" \"))\n",
    "\n",
    "print(\"\\n-----------------\\n\")\n",
    "\n",
    "# check whether the string ends with the string\n",
    "print(\"Check whether s ends with 'Science'\")\n",
    "print('s.endswith(\"Science\") =', s.endswith(\"Science\"))\n",
    "\n",
    "print(\"\\n-----------------\\n\")\n",
    "\n",
    "# Merges the elements in the list into a string, with the separator string\n",
    "print(\"Merges the sub-strings\")\n",
    "print('\" \".join([\"Foundations\", \"of\", \"Data\", \"Science\"]) =', \" \".join([\"Foundations\", \"of\", \"Data\", \"Science\"]))\n",
    "\n",
    "print(\"\\n-----------------\\n\")\n",
    "\n",
    "# string formatting\n",
    "# {name} and {age} are placeholders\n",
    "s2 = \"My name is {name}. I am {age}.\".format(name = \"Haozhe\", age = 26)\n",
    "print(s2)\n"
   ]
  },
  {
   "cell_type": "markdown",
   "metadata": {
    "colab_type": "text",
    "id": "3wCwWF58L0EW"
   },
   "source": [
    "### Tuples\n",
    "\n",
    "Immutable "
   ]
  },
  {
   "cell_type": "code",
   "execution_count": 57,
   "metadata": {
    "colab": {
     "base_uri": "https://localhost:8080/",
     "height": 136
    },
    "colab_type": "code",
    "executionInfo": {
     "elapsed": 727,
     "status": "ok",
     "timestamp": 1596446259063,
     "user": {
      "displayName": "Haozhe Zhang",
      "photoUrl": "https://lh3.googleusercontent.com/a-/AOh14GhewCb1FImnjURCLugyfalL8wVXJomnuoEHUckN=s64",
      "userId": "15943369882491692800"
     },
     "user_tz": -480
    },
    "id": "an2zJvLEqI1b",
    "outputId": "0172fd91-d550-4740-b70f-fe37ef0d5fcc"
   },
   "outputs": [
    {
     "name": "stdout",
     "output_type": "stream",
     "text": [
      "Init a tuple t = (1, 2, 3, 1)\n",
      "t = (2, 3, 4, 5)\n",
      "\n",
      "----------------\n",
      "\n",
      "t[1] = 3\n",
      "t[2:4] = (4, 5)\n"
     ]
    }
   ],
   "source": [
    "# tuples are like lists but are immutable\n",
    "\n",
    "t = (1,2,3,1) # init a tuple with four element \n",
    "print(\"Init a tuple t =\", t)\n",
    "\n",
    "t = 2,3,4,5 # the parentheses can be omitted\n",
    "print(\"t =\", t)\n",
    "\n",
    "print(\"\\n----------------\\n\")\n",
    "\n",
    "# we can take elements in a tuple using indexing\n",
    "print(\"t[1] =\", t[1]) # take the second element\n",
    "print(\"t[2:4] =\", t[2:4]) # take the thrid and fourth elements\n"
   ]
  },
  {
   "cell_type": "markdown",
   "metadata": {
    "colab_type": "text",
    "id": "VR_E0JCHL1RN"
   },
   "source": [
    "### Sets\n",
    "\n",
    "unordered and no duplication"
   ]
  },
  {
   "cell_type": "code",
   "execution_count": 68,
   "metadata": {
    "colab": {
     "base_uri": "https://localhost:8080/",
     "height": 391
    },
    "colab_type": "code",
    "executionInfo": {
     "elapsed": 745,
     "status": "ok",
     "timestamp": 1596446694083,
     "user": {
      "displayName": "Haozhe Zhang",
      "photoUrl": "https://lh3.googleusercontent.com/a-/AOh14GhewCb1FImnjURCLugyfalL8wVXJomnuoEHUckN=s64",
      "userId": "15943369882491692800"
     },
     "user_tz": -480
    },
    "id": "JbU4heK0qkvY",
    "outputId": "648cc68d-f931-44e4-a8b0-377af90acb16"
   },
   "outputs": [
    {
     "name": "stdout",
     "output_type": "stream",
     "text": [
      "Init a set s = {1, 2, 3}\n",
      "length of s = 3\n",
      "\n",
      "--------------------\n",
      "\n",
      "Sets contain no duplication\n",
      "s2 = {4,4,5,6,7,4,4,4,5,5,5} => {4, 5, 6, 7}\n",
      "\n",
      "--------------------\n",
      "\n",
      "Given the set s = {1, 2, 3}\n",
      "Add an element to a set by using s.add(4)\n",
      "s = {1, 2, 3, 4}\n",
      "\n",
      "Add an element that is already in s does not change s\n",
      "s.add(1)\n",
      "s = {1, 2, 3, 4}\n",
      "\n",
      "--------------------\n",
      "\n",
      "Remove an element by s.remove(1)\n",
      "s = {2, 3, 4}\n"
     ]
    }
   ],
   "source": [
    "# sets are unordered and have no duplication\n",
    "s = {1,2,3}\n",
    "print('Init a set s =', s)\n",
    "print(\"length of s =\", len(s))\n",
    "\n",
    "print(\"\\n--------------------\\n\")\n",
    "\n",
    "# there is no duplication in sets\n",
    "s2 = {4,4,5,6,7,4,4,4,5,5,5} # duplicated values will be removed\n",
    "print(\"Sets contain no duplication\")\n",
    "print('s2 = {4,4,5,6,7,4,4,4,5,5,5} =>', s2)\n",
    "\n",
    "print(\"\\n--------------------\\n\")\n",
    "\n",
    "# add elements\n",
    "print(\"Given the set s =\", s)\n",
    "print(\"Add an element to a set by using s.add(4)\")\n",
    "s.add(4)\n",
    "print(\"s =\", s)\n",
    "print()\n",
    "\n",
    "print(\"Add an element that is already in s does not change s\")\n",
    "print('s.add(1)')\n",
    "s.add(1)\n",
    "print(\"s =\", s)\n",
    "\n",
    "print(\"\\n--------------------\\n\")\n",
    "\n",
    "\n",
    "# remove elements \n",
    "print(\"Remove an element by s.remove(1)\")\n",
    "s.remove(1)\n",
    "print(\"s =\", s)\n"
   ]
  },
  {
   "cell_type": "code",
   "execution_count": 70,
   "metadata": {
    "colab": {
     "base_uri": "https://localhost:8080/",
     "height": 153
    },
    "colab_type": "code",
    "executionInfo": {
     "elapsed": 754,
     "status": "ok",
     "timestamp": 1596446816463,
     "user": {
      "displayName": "Haozhe Zhang",
      "photoUrl": "https://lh3.googleusercontent.com/a-/AOh14GhewCb1FImnjURCLugyfalL8wVXJomnuoEHUckN=s64",
      "userId": "15943369882491692800"
     },
     "user_tz": -480
    },
    "id": "LgsySpxDrok_",
    "outputId": "27c461ae-d28f-4f54-9154-2512002b48dd"
   },
   "outputs": [
    {
     "name": "stdout",
     "output_type": "stream",
     "text": [
      "Given the two sets\n",
      "s: {2, 3, 4}\n",
      "s2: {4, 5, 6, 7}\n",
      "------------\n",
      "s.union(s2) {2, 3, 4, 5, 6, 7}\n",
      "s.difference(s2) {2, 3}\n",
      "s.intersection(s2) {4}\n",
      "s.issubset(s2) False\n"
     ]
    }
   ],
   "source": [
    "# set operatiors\n",
    "\n",
    "print(\"Given the two sets\")\n",
    "print(\"s:\",s)\n",
    "print(\"s2:\",s2)\n",
    "\n",
    "print(\"------------\")\n",
    "\n",
    "print(\"s.union(s2)\", s.union(s2)) # take the union of s and s2\n",
    "print(\"s.difference(s2)\", s.difference(s2)) # take s - s2\n",
    "print(\"s.intersection(s2)\", s.intersection(s2)) # intersection of s and s2\n",
    "print(\"s.issubset(s2)\", s.issubset(s2)) # returns a Boolean showing whether all elements of s are in s2\n",
    "\n"
   ]
  },
  {
   "cell_type": "markdown",
   "metadata": {
    "colab_type": "text",
    "id": "yiFTBISzL2hh"
   },
   "source": [
    "### Dictionaries\n",
    "\n"
   ]
  },
  {
   "cell_type": "code",
   "execution_count": 78,
   "metadata": {
    "colab": {
     "base_uri": "https://localhost:8080/",
     "height": 476
    },
    "colab_type": "code",
    "executionInfo": {
     "elapsed": 764,
     "status": "ok",
     "timestamp": 1596447196437,
     "user": {
      "displayName": "Haozhe Zhang",
      "photoUrl": "https://lh3.googleusercontent.com/a-/AOh14GhewCb1FImnjURCLugyfalL8wVXJomnuoEHUckN=s64",
      "userId": "15943369882491692800"
     },
     "user_tz": -480
    },
    "id": "nwyO6ax8sekT",
    "outputId": "20a36f68-b805-4392-a428-06486e42fbe9"
   },
   "outputs": [
    {
     "name": "stdout",
     "output_type": "stream",
     "text": [
      "Init a dictionary\n",
      "d = {'a': 1, 'b': 2, 'c': 3}\n",
      "\n",
      "---------------\n",
      "\n",
      "Access the entry with key 'b'\n",
      "d[\"b\"] = 2\n",
      "\n",
      "---------------\n",
      "\n",
      "Add a new entry by d['d'] = 4\n",
      "d = {'a': 1, 'b': 2, 'c': 3, 'd': 4}\n",
      "\n",
      "---------------\n",
      "\n",
      "Update an entry by d['a'] = 10\n",
      "d = {'a': 10, 'b': 2, 'c': 3, 'd': 4}\n",
      "\n",
      "---------------\n",
      "\n",
      "Remove an entry by del d['c']\n",
      "d = {'a': 10, 'b': 2, 'd': 4}\n",
      "\n",
      "---------------\n",
      "\n",
      "Check whether a key value is in the dictionary\n",
      "\"b\" in d = True\n"
     ]
    }
   ],
   "source": [
    "# Init a dictionary with three key-value pairs\n",
    "# where the keys are strings 'a', 'b', and 'c',\n",
    "# and the corresponding values are numbers 1, 2 and 3, respectively. \n",
    "d = {\n",
    "  \"a\": 1,\n",
    "  \"b\": 2,\n",
    "  \"c\": 3\n",
    "}\n",
    "\n",
    "print(\"Init a dictionary\")\n",
    "print(\"d =\", d)\n",
    "\n",
    "print(\"\\n---------------\\n\")\n",
    "\n",
    "# access an entry\n",
    "print(\"Access the entry with key 'b'\")\n",
    "print('d[\"b\"] =', d[\"b\"])\n",
    "\n",
    "print(\"\\n---------------\\n\")\n",
    "\n",
    "# add an entry\n",
    "print(\"Add a new entry by d['d'] = 4\")\n",
    "d[\"d\"] = 4\n",
    "print(\"d =\", d)\n",
    "\n",
    "print(\"\\n---------------\\n\")\n",
    "\n",
    "# update an entry\n",
    "print(\"Update an entry by d['a'] = 10\")\n",
    "d[\"a\"] = 10\n",
    "print(\"d =\", d)\n",
    "\n",
    "print(\"\\n---------------\\n\")\n",
    "\n",
    "# remove an entry\n",
    "print(\"Remove an entry by del d['c']\")\n",
    "del d[\"c\"]\n",
    "print(\"d =\", d)\n",
    "\n",
    "print(\"\\n---------------\\n\")\n",
    "\n",
    "# check if key exists\n",
    "print(\"Check whether a key value is in the dictionary\")\n",
    "print('\"b\" in d =', \"b\" in d)\n"
   ]
  }
 ],
 "metadata": {
  "colab": {
   "authorship_tag": "ABX9TyOb45RAbQ3q203LIvUC5dE+",
   "collapsed_sections": [],
   "name": "Practical1_python.ipynb",
   "provenance": []
  },
  "kernelspec": {
   "display_name": "Python 3",
   "language": "python",
   "name": "python3"
  },
  "language_info": {
   "codemirror_mode": {
    "name": "ipython",
    "version": 3
   },
   "file_extension": ".py",
   "mimetype": "text/x-python",
   "name": "python",
   "nbconvert_exporter": "python",
   "pygments_lexer": "ipython3",
   "version": "3.7.6"
  }
 },
 "nbformat": 4,
 "nbformat_minor": 4
}
