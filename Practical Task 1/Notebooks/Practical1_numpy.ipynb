{
 "cells": [
  {
   "cell_type": "markdown",
   "metadata": {
    "colab_type": "text",
    "id": "5aal0H4hw4Pl"
   },
   "source": [
    "# NumPy\n",
    "\n",
    "- Open-source Python library\n",
    "- Fundamental package for scientific computing   \n",
    "- Multi-dimensional array\n",
    "    - Matrix: dimension 2\n",
    "    - Vector: dimension 1\n",
    "    - Scalar: dimension 0\n",
    " "
   ]
  },
  {
   "cell_type": "markdown",
   "metadata": {},
   "source": [
    "### Motivation example"
   ]
  },
  {
   "cell_type": "code",
   "execution_count": 6,
   "metadata": {
    "colab": {},
    "colab_type": "code",
    "id": "5WLimJa0wnV_"
   },
   "outputs": [
    {
     "name": "stdout",
     "output_type": "stream",
     "text": [
      "[[114, 160, 60], [74, 97, 73], [119, 157, 112]]\n"
     ]
    }
   ],
   "source": [
    "# assume you are given the two matrices\n",
    "m1 = [[12,7,3], \n",
    "      [4 ,5,6], \n",
    "      [7 ,8,9]] \n",
    "\n",
    "m2 = [[5,8,1], \n",
    "      [6,7,3], \n",
    "      [4,5,9]] \n",
    "\n",
    "# to compute m1 x m2, you need the following code\n",
    "\n",
    "# we know m1 and m2 have the size (3,3), \n",
    "# so the result matrix also has the size (3,3)\n",
    "# (3,3) x (3,3) => (3,3)\n",
    "# we thus initialize the result matrix with all 0 values\n",
    "res = [[0,0,0], \n",
    "       [0,0,0], \n",
    "       [0,0,0]]\n",
    "\n",
    "# here we follow the matrix multiplication formula\n",
    "for i in range(len(m1)): \n",
    "    for j in range(len(m2[0])): \n",
    "        for k in range(len(m2)): \n",
    "  \n",
    "            # resulted matrix \n",
    "            res[i][j] += m1[i][k] * m2[k][j]\n",
    "\n",
    "print(res)"
   ]
  },
  {
   "cell_type": "code",
   "execution_count": 2,
   "metadata": {},
   "outputs": [
    {
     "name": "stdout",
     "output_type": "stream",
     "text": [
      "[[114 160  60]\n",
      " [ 74  97  73]\n",
      " [119 157 112]]\n"
     ]
    }
   ],
   "source": [
    "# Import NumPy \n",
    "import numpy as np\n",
    "\n",
    "m1 = np.array([[12,7,3], \n",
    "               [4 ,5,6], \n",
    "               [7 ,8,9]])\n",
    "\n",
    "m2 = np.array([[5,8,1], \n",
    "               [6,7,3], \n",
    "               [4,5,9]]) \n",
    "\n",
    "res = m1.dot(m2)\n",
    "print(res)"
   ]
  },
  {
   "cell_type": "markdown",
   "metadata": {
    "colab_type": "text",
    "id": "8qeXDdEXxNN-"
   },
   "source": [
    "### Multi-dimensional arrays: `ndarray`\n"
   ]
  },
  {
   "cell_type": "markdown",
   "metadata": {
    "colab_type": "text",
    "id": "9dnOAJH-0BCs"
   },
   "source": [
    "### Create ndarray from existing data"
   ]
  },
  {
   "cell_type": "code",
   "execution_count": 8,
   "metadata": {
    "colab": {
     "base_uri": "https://localhost:8080/",
     "height": 901
    },
    "colab_type": "code",
    "executionInfo": {
     "elapsed": 827,
     "status": "ok",
     "timestamp": 1596448929108,
     "user": {
      "displayName": "Haozhe Zhang",
      "photoUrl": "https://lh3.googleusercontent.com/a-/AOh14GhewCb1FImnjURCLugyfalL8wVXJomnuoEHUckN=s64",
      "userId": "15943369882491692800"
     },
     "user_tz": -480
    },
    "id": "fl2VG1Grx2O3",
    "outputId": "fb7da347-2fc8-47cf-f7f9-896a2b2e48a5"
   },
   "outputs": [
    {
     "name": "stdout",
     "output_type": "stream",
     "text": [
      "Initialize arrays with different dimensions\n",
      "\n",
      "initialize a vector / 1D-array\n",
      "arr1 = np.array([1,2,3,4,5,6])\n",
      "arr1: [1 2 3 4 5 6]\n",
      "\n",
      "initialize a scalar / 0D-array\n",
      "arr0 = np.array(2)\n",
      "arr0: 2\n",
      "\n",
      "initialize a matrix / 2D-array\n",
      "arr2 = np.array([[1,2,3], [4,5,6]])\n",
      "arr2:\n",
      "[[1 2 3]\n",
      " [4 5 6]]\n",
      "\n",
      "------------\n",
      "\n",
      "Check the dimension of the arrays:\n",
      "arr0.ndim: 0\n",
      "arr1.ndim: 1\n",
      "arr2.ndim: 2\n",
      "\n",
      "Check the shape/size of the arrays:\n",
      "arr0.shape: 1\n",
      "arr0.size: 1\n",
      "arr1.shape: (6,)\n",
      "arr1.size: 6\n",
      "arr2.shape: (2, 3)\n",
      "arr2.size: 6\n",
      "\n",
      "------------\n",
      "\n",
      "Consider the following three arrays:\n",
      "a = [1 2 3 4 5 6]\n",
      "b = [[1 2 3 4 5 6]]\n",
      "c =\n",
      "[[1]\n",
      " [2]\n",
      " [3]\n",
      " [4]\n",
      " [5]\n",
      " [6]]\n",
      "\n",
      "Although they contain the same values, they mean different data structures in NumPy.\n",
      "a is a vector with only one dimension\n",
      "a.ndim: 1\n",
      "a.shape: (6,)\n",
      "\n",
      "b and c are matrices with two dimensions\n",
      "where b has one row and six columns, and c has six rows and one column:\n",
      "b.ndim: 2 , c.ndim: 2\n",
      "b.shape: (1, 6) , c.shape (6, 1)\n"
     ]
    }
   ],
   "source": [
    "# We can initalize arrays from existing data by calling the function np.array\n",
    "print(\"Initialize arrays with different dimensions\\n\")\n",
    "\n",
    "# initialize an array (1D array)\n",
    "print(\"initialize a vector / 1D-array\")\n",
    "arr1 = np.array([1,2,3,4,5,6])\n",
    "print(\"arr1 = np.array([1,2,3,4,5,6])\")\n",
    "print(\"arr1:\", arr1) # print the array\n",
    "print() # print an empty line\n",
    "\n",
    "# 0D array\n",
    "print(\"initialize a scalar / 0D-array\")\n",
    "arr0 = np.array(2)\n",
    "print(\"arr0 = np.array(2)\")\n",
    "print(\"arr0:\", arr0)\n",
    "print() # print an empty line\n",
    "\n",
    "# 2D array\n",
    "print(\"initialize a matrix / 2D-array\")\n",
    "arr2 = np.array([[1,2,3], [4,5,6]]) \n",
    "print(\"arr2 = np.array([[1,2,3], [4,5,6]])\")\n",
    "print(\"arr2:\")\n",
    "print(arr2)\n",
    "print() # print an empty line\n",
    "\n",
    "\n",
    "print(\"------------\\n\")\n",
    "\n",
    "\n",
    "print(\"Check the dimension of the arrays:\")\n",
    "print(\"arr0.ndim:\", arr0.ndim) # check the dimension of the array\n",
    "print(\"arr1.ndim:\", arr1.ndim)\n",
    "print(\"arr2.ndim:\", arr2.ndim)\n",
    "\n",
    "print()\n",
    "print(\"Check the shape/size of the arrays:\")\n",
    "print(\"arr0.shape:\", arr0.size) # \n",
    "print(\"arr0.size:\", arr0.size) # \n",
    "print(\"arr1.shape:\", arr1.shape)\n",
    "print(\"arr1.size:\", arr1.size)\n",
    "print(\"arr2.shape:\", arr2.shape) # the shape of the matrix\n",
    "print(\"arr2.size:\", arr2.size) # count the number of elements in the matrix\n",
    "\n",
    "print(\"\\n------------\\n\")\n",
    "\n",
    "a = np.array([1,2,3,4,5,6])\n",
    "b = np.array([[1,2,3,4,5,6]])\n",
    "c = np.array([[1], [2], [3], [4], [5], [6]])\n",
    "print(\"Consider the following three arrays:\")\n",
    "print(\"a =\", a)\n",
    "print(\"b =\", b)\n",
    "print(\"c =\")\n",
    "print(c)\n",
    "print()\n",
    "\n",
    "print(\"Although they contain the same values, they mean different data structures in NumPy.\")\n",
    "print(\"a is a vector with only one dimension\")\n",
    "print(\"a.ndim:\", a.ndim)\n",
    "print(\"a.shape:\", a.shape)\n",
    "print()\n",
    "print(\"b and c are matrices with two dimensions\")\n",
    "print(\"where b has one row and six columns, and c has six rows and one column:\")\n",
    "print(\"b.ndim:\", b.ndim, \", c.ndim:\", c.ndim)\n",
    "print(\"b.shape:\", b.shape, \", c.shape\", c.shape)\n"
   ]
  },
  {
   "cell_type": "markdown",
   "metadata": {
    "colab_type": "text",
    "id": "HPUGfwFqz-tI"
   },
   "source": [
    "### Built-in functions for creating ndarrays "
   ]
  },
  {
   "cell_type": "code",
   "execution_count": 9,
   "metadata": {
    "colab": {
     "base_uri": "https://localhost:8080/",
     "height": 633
    },
    "colab_type": "code",
    "executionInfo": {
     "elapsed": 1654,
     "status": "ok",
     "timestamp": 1598353790146,
     "user": {
      "displayName": "Haozhe Zhang",
      "photoUrl": "https://lh3.googleusercontent.com/a-/AOh14GhewCb1FImnjURCLugyfalL8wVXJomnuoEHUckN=s64",
      "userId": "15943369882491692800"
     },
     "user_tz": -480
    },
    "id": "oUFNGAw7yzBw",
    "outputId": "23b678ef-f6f5-49c6-c2e4-2ad93b6cf1a2"
   },
   "outputs": [
    {
     "name": "stdout",
     "output_type": "stream",
     "text": [
      "Create a 2x3 matrix of 0: \n",
      "np.zeros((2,3)):\n",
      "[[0. 0. 0.]\n",
      " [0. 0. 0.]]\n",
      "\n",
      "Create a 6x1 matrix of 1: \n",
      "np.ones((6,1)):\n",
      "[[1.]\n",
      " [1.]\n",
      " [1.]\n",
      " [1.]\n",
      " [1.]\n",
      " [1.]]\n",
      "\n",
      "Create a 5x5 identity matrix:\n",
      "np.eye(5):\n",
      "[[1. 0. 0. 0. 0.]\n",
      " [0. 1. 0. 0. 0.]\n",
      " [0. 0. 1. 0. 0.]\n",
      " [0. 0. 0. 1. 0.]\n",
      " [0. 0. 0. 0. 1.]]\n",
      "Shape of the identity matrix: (5, 5)\n",
      "\n",
      "Create a 3x2 matrix with random values in [0,1):\n",
      "np.random.random((3,2)):\n",
      "[[0.02023852 0.82896821]\n",
      " [0.7031192  0.47915008]\n",
      " [0.11724635 0.29508309]]\n",
      "\n",
      "Create a 2x2 matrix of 4:\n",
      "np.full((2,2), 4):\n",
      "[[4 4]\n",
      " [4 4]]\n",
      "np.zeros and np.ones are instances of np.full\n",
      "E.g. np.zeros((2,3)) = np.full((2,3), 0)\n"
     ]
    }
   ],
   "source": [
    "# functions for creating arrays\n",
    "\n",
    "# create arrays of all zero\n",
    "zeros = np.zeros((2,3)) # create a 2x3 matrix of all 0\n",
    "print(\"Create a 2x3 matrix of 0: \")\n",
    "print(\"np.zeros((2,3)):\")\n",
    "print(zeros)\n",
    "print()\n",
    "\n",
    "# create arrays of all one\n",
    "ones = np.ones((6,1)) # create a 6,1 matrix of all 1\n",
    "print(\"Create a 6x1 matrix of 1: \")\n",
    "print(\"np.ones((6,1)):\")\n",
    "print(ones)\n",
    "print()\n",
    "\n",
    "# create identity matrices \n",
    "# An identity matrix is a square matrix that has 1's along the main diagonal \n",
    "# and 0's for all other entries.\n",
    "eye = np.eye(5) # identity matrix with shape 5x5\n",
    "print(\"Create a 5x5 identity matrix:\")\n",
    "print(\"np.eye(5):\")\n",
    "print(eye)\n",
    "print(\"Shape of the identity matrix:\", eye.shape)\n",
    "print()\n",
    "\n",
    "\n",
    "# create arrays with random values in [0,1)\n",
    "print(\"Create a 3x2 matrix with random values in [0,1):\")\n",
    "r = np.random.random((3,2)) # create an array with random values from 0 to 1\n",
    "print(\"np.random.random((3,2)):\")\n",
    "print(r)\n",
    "print()\n",
    "\n",
    "\n",
    "# create arrays of the input value\n",
    "print(\"Create a 2x2 matrix of 4:\")\n",
    "print(\"np.full((2,2), 4):\")\n",
    "c = np.full((2,2), 4) \n",
    "print(c)\n",
    "print(\"np.zeros and np.ones are instances of np.full\")\n",
    "print(\"E.g. np.zeros((2,3)) = np.full((2,3), 0)\")\n"
   ]
  },
  {
   "cell_type": "markdown",
   "metadata": {
    "colab_type": "text",
    "id": "XqjwyrJ50Pp1"
   },
   "source": [
    "### Indexing and slicing ndarrays"
   ]
  },
  {
   "cell_type": "code",
   "execution_count": 10,
   "metadata": {
    "colab": {
     "base_uri": "https://localhost:8080/",
     "height": 663
    },
    "colab_type": "code",
    "executionInfo": {
     "elapsed": 1270,
     "status": "ok",
     "timestamp": 1596448929567,
     "user": {
      "displayName": "Haozhe Zhang",
      "photoUrl": "https://lh3.googleusercontent.com/a-/AOh14GhewCb1FImnjURCLugyfalL8wVXJomnuoEHUckN=s64",
      "userId": "15943369882491692800"
     },
     "user_tz": -480
    },
    "id": "FZ_FDgiT0RtH",
    "outputId": "10a18f71-923a-47e4-93d4-ae41e4967837"
   },
   "outputs": [
    {
     "name": "stdout",
     "output_type": "stream",
     "text": [
      "Create the matrix :\n",
      "[[ 1  2  3]\n",
      " [ 4  5  6]\n",
      " [ 7  8  9]\n",
      " [10 11 12]]\n",
      "\n",
      "Access the element at the second row and first column:\n",
      "m[1,0]: 4\n",
      "\n",
      "------------\n",
      "\n",
      "Use slicing to select a range of elements\n",
      "\n",
      "Extract elements that are in the first two rows and the 2nd and 3rd columns:\n",
      "m[:2,1:3]:\n",
      "[[2 3]\n",
      " [5 6]]\n",
      "the slicing 1:3 means [1,2], i.e., second and third. Note 3 is excluded.\n",
      "the slicing :2 is equivalent to 0:2, which means indeces [0,1]\n",
      "\n",
      "The extracted sub-matrix has the shape 2x2:\n",
      "m[:2,1:3].shape: (2, 2)\n",
      "\n",
      "----------\n",
      "\n",
      "Extract the second row of the matrix:\n",
      ": means taking all elements of the dimension\n",
      "m[1,:]: [4 5 6]\n",
      "m[1,:].shape: (3,)\n",
      "\n",
      "Extract the first column of the matrix a\n",
      "m[:,0]: [ 1  4  7 10]\n",
      "m[:,0].shape: (4,)\n",
      "\n",
      "Note mixing integer indexing with slices yields a vector rather than a matrix.\n",
      "m[:,0].shape: (4,)\n",
      "Use only slices yields a matrix:\n",
      "m[:,0:1].shape: (4, 1)\n"
     ]
    }
   ],
   "source": [
    "# indexing \n",
    "\n",
    "# create a 3x4 matrix\n",
    "m = np.array([[1,2,3], [4,5,6], [7,8,9], [10,11,12]])\n",
    "print(\"Create the matrix :\")\n",
    "print(m)\n",
    "print()\n",
    "\n",
    "# access an element by indeces\n",
    "print(\"Access the element at the second row and first column:\")\n",
    "# Python follows zero-based numbering, \n",
    "# i.e., the first element is assigned index 0 rather 1\n",
    "print(\"m[1,0]:\", m[1,0]) # The first number refers to the index of the row \n",
    "                           # while the second number refers to that of the column\")\n",
    "print()\n",
    "print(\"------------\\n\")\n",
    "\n",
    "# slicing\n",
    "\n",
    "# access multiple elements\n",
    "print(\"Use slicing to select a range of elements\\n\")\n",
    "\n",
    "# [1:5] => [1,2,3,4]\n",
    "\n",
    "print(\"Extract elements that are in the first two rows and the 2nd and 3rd columns:\")\n",
    "print(\"m[:2,1:3]:\") \n",
    "print(m[:2,1:3])\n",
    "print(\"the slicing 1:3 means [1,2], i.e., second and third. Note 3 is excluded.\")\n",
    "print(\"the slicing :2 is equivalent to 0:2, which means indeces [0,1]\")\n",
    "print()\n",
    "print(\"The extracted sub-matrix has the shape 2x2:\")\n",
    "print(\"m[:2,1:3].shape:\", m[:2,1:3].shape)\n",
    "\n",
    "\n",
    "print(\"\\n----------\\n\")\n",
    "\n",
    "print(\"Extract the second row of the matrix:\")\n",
    "print(\": means taking all elements of the dimension\")\n",
    "print(\"m[1,:]:\", m[1,:]) # : means taking all elements of the dimension\n",
    "print(\"m[1,:].shape:\", m[1,:].shape)\n",
    "\n",
    "print()\n",
    "\n",
    "print(\"Extract the first column of the matrix a\")\n",
    "print(\"m[:,0]:\", m[:,0]) # \n",
    "print(\"m[:,0].shape:\", m[:,0].shape)\n",
    "\n",
    "print()\n",
    "\n",
    "print(\"Note mixing integer indexing with slices yields a vector rather than a matrix.\")\n",
    "print(\"m[:,0].shape:\", m[:,0].shape)\n",
    "print(\"Use only slices yields a matrix:\")\n",
    "print(\"m[:,0:1].shape:\", m[:,0:1].shape)\n"
   ]
  },
  {
   "cell_type": "markdown",
   "metadata": {
    "colab_type": "text",
    "id": "8uKHJeE6sBcZ"
   },
   "source": [
    "#### **Exercise**: Use array slicing to split a dataset to training data and test data"
   ]
  },
  {
   "cell_type": "code",
   "execution_count": 11,
   "metadata": {
    "colab": {
     "base_uri": "https://localhost:8080/",
     "height": 187
    },
    "colab_type": "code",
    "executionInfo": {
     "elapsed": 1261,
     "status": "ok",
     "timestamp": 1596448929567,
     "user": {
      "displayName": "Haozhe Zhang",
      "photoUrl": "https://lh3.googleusercontent.com/a-/AOh14GhewCb1FImnjURCLugyfalL8wVXJomnuoEHUckN=s64",
      "userId": "15943369882491692800"
     },
     "user_tz": -480
    },
    "id": "V6b5hEyKsKqW",
    "outputId": "a47598c6-c191-4815-fa8f-97239c92ecba"
   },
   "outputs": [
    {
     "name": "stdout",
     "output_type": "stream",
     "text": [
      "X.shape: (17000, 9)\n",
      "The matrix X has 17000 rows and 9 columns, i.e., 17000 records and 9 attributes\n",
      "\n",
      "-----------------\n",
      "\n",
      "Split X into X_train and X_test\n",
      "\n",
      "Training data size: 13600\n",
      "X_train.shape: (13600, 9)\n",
      "X_test.shape: (3400, 9)\n"
     ]
    }
   ],
   "source": [
    "# load the sample dataset to the variable X\n",
    "X = np.loadtxt(open(\"./california_housing_train.csv\", \"rb\"), delimiter=\",\", skiprows=1) \n",
    "# X = np.loadtxt(open(\"/content/sample_data/california_housing_train.csv\", \"rb\"), delimiter=\",\", skiprows=1) # for Google Colab\n",
    "\n",
    "print(\"X.shape:\", X.shape)\n",
    "print(\"The matrix X has {} rows and {} columns, i.e., {} records and {} attributes\".format(X.shape[0], X.shape[1], X.shape[0], X.shape[1]))\n",
    "\n",
    "print(\"\\n-----------------\\n\")\n",
    "\n",
    "# We want to use the first 80% rows as training data, and the remaining 20% as test data\n",
    "# How do we split the data?\n",
    "print(\"Split X into X_train and X_test\\n\")\n",
    "\n",
    "# compute the number of rows in the training data\n",
    "train_size = int(X.shape[0] * 0.8) # cast the number to an integer\n",
    "print(\"Training data size:\", train_size)\n",
    "\n",
    "X_train = X[:train_size, :] # the first 'train_size' rows of X\n",
    "X_test = X[train_size:] # rows after the train_size th row\n",
    "\n",
    "print(\"X_train.shape:\", X_train.shape)\n",
    "print(\"X_test.shape:\", X_test.shape)\n"
   ]
  },
  {
   "cell_type": "markdown",
   "metadata": {
    "colab_type": "text",
    "id": "647GJMfM6m8p"
   },
   "source": [
    "### Reshape ndarrays"
   ]
  },
  {
   "cell_type": "code",
   "execution_count": 12,
   "metadata": {
    "colab": {
     "base_uri": "https://localhost:8080/",
     "height": 306
    },
    "colab_type": "code",
    "executionInfo": {
     "elapsed": 1253,
     "status": "ok",
     "timestamp": 1596448929568,
     "user": {
      "displayName": "Haozhe Zhang",
      "photoUrl": "https://lh3.googleusercontent.com/a-/AOh14GhewCb1FImnjURCLugyfalL8wVXJomnuoEHUckN=s64",
      "userId": "15943369882491692800"
     },
     "user_tz": -480
    },
    "id": "oMJ-F2746tZv",
    "outputId": "d47f9af8-84ed-4cc8-de8a-6b4d39192194"
   },
   "outputs": [
    {
     "name": "stdout",
     "output_type": "stream",
     "text": [
      "Create the vector vec = [1 2 3 4 5 6]\n",
      "vec.shape: (6,)\n",
      "\n",
      "-----------\n",
      "\n",
      "Convert a vector with six elements to a 2x3 matrix\n",
      "matrix = vec.reshape((2,3))\n",
      "matrix:\n",
      "[[1 2 3]\n",
      " [4 5 6]]\n",
      "matrix.shape: (2, 3)\n",
      "\n",
      "Flatten the matrix to a vector\n",
      "vec2 = matrix.reshape(-1)\n",
      "vec2:\n",
      "[1 2 3 4 5 6]\n",
      "vec2.shape: (6,)\n"
     ]
    }
   ],
   "source": [
    "# reshape the arrays\n",
    "\n",
    "vec = np.array([1,2,3,4,5,6]) # init a vector\n",
    "print(\"Create the vector vec =\", vec)\n",
    "print(\"vec.shape:\", vec.shape)\n",
    "\n",
    "print(\"\\n-----------\\n\")\n",
    "\n",
    "print(\"Convert a vector with six elements to a 2x3 matrix\")\n",
    "\n",
    "matrix = vec.reshape((2,3))\n",
    "print(\"matrix = vec.reshape((2,3))\")\n",
    "print(\"matrix:\")\n",
    "print(matrix)\n",
    "print(\"matrix.shape:\", matrix.shape)\n",
    "print()\n",
    "\n",
    "print(\"Flatten the matrix to a vector\")\n",
    "vec2 = matrix.reshape(-1) # -1 means reshaping the array into a 1D array\n",
    "print(\"vec2 = matrix.reshape(-1)\")\n",
    "print(\"vec2:\")\n",
    "print(vec2)\n",
    "print(\"vec2.shape:\", vec2.shape)\n"
   ]
  },
  {
   "cell_type": "markdown",
   "metadata": {
    "colab_type": "text",
    "id": "GLGwtIk_7Z3X"
   },
   "source": [
    "### Iterate ndarrays"
   ]
  },
  {
   "cell_type": "code",
   "execution_count": 13,
   "metadata": {
    "colab": {
     "base_uri": "https://localhost:8080/",
     "height": 952
    },
    "colab_type": "code",
    "executionInfo": {
     "elapsed": 1244,
     "status": "ok",
     "timestamp": 1596448929568,
     "user": {
      "displayName": "Haozhe Zhang",
      "photoUrl": "https://lh3.googleusercontent.com/a-/AOh14GhewCb1FImnjURCLugyfalL8wVXJomnuoEHUckN=s64",
      "userId": "15943369882491692800"
     },
     "user_tz": -480
    },
    "id": "66qhWWa77Ziw",
    "outputId": "644e0859-52fd-4636-e7a7-510016704934"
   },
   "outputs": [
    {
     "name": "stdout",
     "output_type": "stream",
     "text": [
      "create a 3x4 matrix m = \n",
      "[[ 1  2  3  4]\n",
      " [ 5  6  7  8]\n",
      " [ 9 10 11 12]]\n",
      "m.shape: (3, 4)\n",
      "\n",
      "-----------\n",
      "\n",
      "Iterate by rows using 'for row in m:'\n",
      "[1 2 3 4]\n",
      "[5 6 7 8]\n",
      "[ 9 10 11 12]\n",
      "\n",
      "-----------\n",
      "\n",
      "Iterate by columns using 'for row in m.T:'\n",
      "\n",
      "m.T:\n",
      "[[ 1  5  9]\n",
      " [ 2  6 10]\n",
      " [ 3  7 11]\n",
      " [ 4  8 12]]\n",
      "\n",
      "[1 5 9]\n",
      "[ 2  6 10]\n",
      "[ 3  7 11]\n",
      "[ 4  8 12]\n",
      "where m.T means the transpose of m.\n",
      "note the transpose operation is not costly as it just changes the 'strides' of numpy arrays\n",
      "\n",
      "-----------\n",
      "\n",
      "Iterate by elements using nested for loops:\n",
      "1\n",
      "2\n",
      "3\n",
      "4\n",
      "5\n",
      "6\n",
      "7\n",
      "8\n",
      "9\n",
      "10\n",
      "11\n",
      "12\n",
      "\n",
      "-----------\n",
      "\n",
      "Enumerate elements with indices:\n",
      "for i, elem in np.ndenumerate(m):\n",
      "(0, 0) 1\n",
      "(0, 1) 2\n",
      "(0, 2) 3\n",
      "(0, 3) 4\n",
      "(1, 0) 5\n",
      "(1, 1) 6\n",
      "(1, 2) 7\n",
      "(1, 3) 8\n",
      "(2, 0) 9\n",
      "(2, 1) 10\n",
      "(2, 2) 11\n",
      "(2, 3) 12\n"
     ]
    }
   ],
   "source": [
    "# create a 3x4 matrix\n",
    "m = np.array([1,2,3,4,5,6,7,8,9,10,11,12])\n",
    "m = m.reshape((3,4)) # reshape the vector to a 3x4 matrix\n",
    "\n",
    "print(\"create a 3x4 matrix m = \")\n",
    "print(m)\n",
    "print(\"m.shape:\", m.shape)\n",
    "\n",
    "print(\"\\n-----------\\n\")\n",
    "print(\"Iterate by rows using 'for row in m:'\")\n",
    "# for each row\n",
    "for row in m:\n",
    "  print(row)\n",
    "\n",
    "print(\"\\n-----------\\n\")\n",
    "print(\"Iterate by columns using 'for row in m.T:'\")\n",
    "\n",
    "# we can iterate the rows of the transpose of the matrix\n",
    "print()\n",
    "print(\"m.T:\")\n",
    "print(m.T)\n",
    "print()\n",
    "\n",
    "# for each col\n",
    "for col in m.T: # m.T means the transpose of m\n",
    "  print(col)\n",
    "\n",
    "print(\"where m.T means the transpose of m.\")\n",
    "print(\"note the transpose operation is not costly as it just changes the 'strides' of numpy arrays\")\n",
    "\n",
    "# note transpose operation is not costly as it just changes the 'strides' of array\n",
    "\n",
    "print(\"\\n-----------\\n\")\n",
    "print(\"Iterate by elements using nested for loops:\")\n",
    "# for each element\n",
    "for row in m:\n",
    "  for elem in row:\n",
    "    print(elem)\n",
    "\n",
    "print(\"\\n-----------\\n\")\n",
    "\n",
    "print(\"Enumerate elements with indices:\")\n",
    "print(\"for i, elem in np.ndenumerate(m):\")\n",
    "# enumerate elements with index\n",
    "for i, elem in np.ndenumerate(m):\n",
    "  print(i, elem)\n",
    "\n",
    "\n"
   ]
  },
  {
   "cell_type": "markdown",
   "metadata": {
    "colab_type": "text",
    "id": "kVwf8M7X9HJ9"
   },
   "source": [
    "### Concatenation of ndarrays"
   ]
  },
  {
   "cell_type": "code",
   "execution_count": 14,
   "metadata": {
    "colab": {
     "base_uri": "https://localhost:8080/",
     "height": 255
    },
    "colab_type": "code",
    "executionInfo": {
     "elapsed": 1237,
     "status": "ok",
     "timestamp": 1596448929569,
     "user": {
      "displayName": "Haozhe Zhang",
      "photoUrl": "https://lh3.googleusercontent.com/a-/AOh14GhewCb1FImnjURCLugyfalL8wVXJomnuoEHUckN=s64",
      "userId": "15943369882491692800"
     },
     "user_tz": -480
    },
    "id": "BsrJ2RMT9KR0",
    "outputId": "2ff96481-13b3-4bc6-a1d8-ae48dc93af34"
   },
   "outputs": [
    {
     "name": "stdout",
     "output_type": "stream",
     "text": [
      "Consider the two vectors\n",
      "vec1: [1 2 3]\n",
      "vec2: [4 5 6]\n",
      "\n",
      "---------------\n",
      "\n",
      "stack along rows / concatenate vectors horizontally\n",
      "np.hstack((vec1, vec2)): [1 2 3 4 5 6]\n",
      "\n",
      "stack along columns / concatenate vectors vertically\n",
      "np.vstack((vec1, vec2)):\n",
      "[[1 2 3]\n",
      " [4 5 6]]\n",
      "\n"
     ]
    }
   ],
   "source": [
    "# consider the two vectors\n",
    "print(\"Consider the two vectors\")\n",
    "vec1 = np.array([1,2,3])\n",
    "vec2 = np.array([4,5,6])\n",
    "print(\"vec1:\", vec1)\n",
    "print(\"vec2:\", vec2)\n",
    "\n",
    "print(\"\\n---------------\\n\")\n",
    "\n",
    "print(\"stack along rows / concatenate vectors horizontally\")\n",
    "print(\"np.hstack((vec1, vec2)):\", np.hstack((vec1, vec2))) # stack along rows\n",
    "print()\n",
    "\n",
    "print(\"stack along columns / concatenate vectors vertically\")\n",
    "print(\"np.vstack((vec1, vec2)):\")\n",
    "print(np.vstack((vec1, vec2)))\n",
    "print()\n"
   ]
  },
  {
   "cell_type": "markdown",
   "metadata": {
    "colab_type": "text",
    "id": "RvJC-qVwRbdz"
   },
   "source": [
    "#### **Exercise**: Given a matrix, how to add a column of ones to the front of the matrix?"
   ]
  },
  {
   "cell_type": "code",
   "execution_count": 15,
   "metadata": {
    "colab": {
     "base_uri": "https://localhost:8080/",
     "height": 374
    },
    "colab_type": "code",
    "executionInfo": {
     "elapsed": 1228,
     "status": "ok",
     "timestamp": 1596448929569,
     "user": {
      "displayName": "Haozhe Zhang",
      "photoUrl": "https://lh3.googleusercontent.com/a-/AOh14GhewCb1FImnjURCLugyfalL8wVXJomnuoEHUckN=s64",
      "userId": "15943369882491692800"
     },
     "user_tz": -480
    },
    "id": "RpdMcPNERj46",
    "outputId": "d44b8ec9-bc85-49a9-9b09-06fee1dfaec7"
   },
   "outputs": [
    {
     "name": "stdout",
     "output_type": "stream",
     "text": [
      "Consider the given matrix m:\n",
      "[[ 1  2  3  4]\n",
      " [ 5  6  7  8]\n",
      " [ 9 10 11 12]]\n",
      "m.shape: (3, 4)\n",
      "\n",
      "---------------\n",
      "\n",
      "Create the column of ones for the matrix\n",
      "vec = np.ones((m.shape[0], 1))\n",
      "vec:\n",
      "[[1.]\n",
      " [1.]\n",
      " [1.]]\n",
      "\n",
      "Concatenate the column and the matrix\n",
      "m = np.hstack((vec, m))\n",
      "m:\n",
      "[[ 1.  1.  2.  3.  4.]\n",
      " [ 1.  5.  6.  7.  8.]\n",
      " [ 1.  9. 10. 11. 12.]]\n"
     ]
    }
   ],
   "source": [
    "# init the given matrix\n",
    "print(\"Consider the given matrix m:\")\n",
    "m = np.array([1,2,3,4,5,6,7,8,9,10,11,12]).reshape(3,4)\n",
    "print(m)\n",
    "print(\"m.shape:\", m.shape)\n",
    "\n",
    "print(\"\\n---------------\\n\")\n",
    "\n",
    "print(\"Create the column of ones for the matrix\")\n",
    "vec = np.ones((m.shape[0], 1)) # m.shape[0] = the number of rows in m\n",
    "print(\"vec = np.ones((m.shape[0], 1))\")\n",
    "print(\"vec:\")\n",
    "print(vec)\n",
    "print()\n",
    "\n",
    "print(\"Concatenate the column and the matrix\")\n",
    "print(\"m = np.hstack((vec, m))\")\n",
    "m = np.hstack((vec, m))\n",
    "print(\"m:\")\n",
    "print(m)\n"
   ]
  },
  {
   "cell_type": "markdown",
   "metadata": {
    "colab_type": "text",
    "id": "oohkh-NN4tbl"
   },
   "source": [
    "### Datatypes\n",
    "\n",
    "NumPy provides some extra data types, such as unsigned integers and datetime objects etc. \n",
    "\n",
    "When creating an array, numpy will try to guess the data type of the array, but you can also specify the type of the array. \n",
    "\n"
   ]
  },
  {
   "cell_type": "code",
   "execution_count": 16,
   "metadata": {
    "colab": {
     "base_uri": "https://localhost:8080/",
     "height": 255
    },
    "colab_type": "code",
    "executionInfo": {
     "elapsed": 1219,
     "status": "ok",
     "timestamp": 1596448929570,
     "user": {
      "displayName": "Haozhe Zhang",
      "photoUrl": "https://lh3.googleusercontent.com/a-/AOh14GhewCb1FImnjURCLugyfalL8wVXJomnuoEHUckN=s64",
      "userId": "15943369882491692800"
     },
     "user_tz": -480
    },
    "id": "iOfzFxHu4s-P",
    "outputId": "a552147b-3734-422b-e00f-2d9b53b5f022"
   },
   "outputs": [
    {
     "name": "stdout",
     "output_type": "stream",
     "text": [
      "Create a vector by vec = np.array([1,2,3,4])\n",
      "NumPy will guess the data type of the array\n",
      "vec: [1 2 3 4]\n",
      "vec.dtype: int32\n",
      "\n",
      "Consider another array with a floating number\n",
      "vec2 = np.array([1,2,3.0,4])\n",
      "vec2: [1. 2. 3. 4.]\n",
      "vec2.dtype: float64\n",
      "\n",
      "Specify the data type when creating the array\n",
      "vec3 = np.array([1.5, 2.5, 3.5, 4.5], dtype='int64')\n",
      "vec3: [1 2 3 4]\n",
      "vec3.dtype: int64\n"
     ]
    }
   ],
   "source": [
    "print(\"Create a vector by vec = np.array([1,2,3,4])\")\n",
    "print(\"NumPy will guess the data type of the array\")\n",
    "vec = np.array([1,2,3,4]) # numpy will guess the data type of the array\n",
    "print(\"vec:\", vec)\n",
    "# check the data type of the array\n",
    "print(\"vec.dtype:\", vec.dtype)\n",
    "\n",
    "print()\n",
    "print(\"Consider another array with a floating number\")\n",
    "print(\"vec2 = np.array([1,2,3.0,4])\")\n",
    "vec2 = np.array([1,2,3.0,4])\n",
    "print(\"vec2:\", vec2)\n",
    "print(\"vec2.dtype:\", vec2.dtype)\n",
    "\n",
    "\n",
    "# specify the data type when creating the array\n",
    "# floor\n",
    "print()\n",
    "print(\"Specify the data type when creating the array\")\n",
    "print(\"vec3 = np.array([1.5, 2.5, 3.5, 4.5], dtype='int64')\")\n",
    "# numpy will cast the floating numbers to integers using floor\n",
    "vec3 = np.array([1.5, 2.5, 3.5, 4.5], dtype='int64') \n",
    "print(\"vec3:\", vec3) \n",
    "print(\"vec3.dtype:\", vec3.dtype)\n"
   ]
  },
  {
   "cell_type": "markdown",
   "metadata": {
    "colab_type": "text",
    "id": "oxyFcy52-eFU"
   },
   "source": [
    "### Arithmetic operators\n",
    "\n"
   ]
  },
  {
   "cell_type": "markdown",
   "metadata": {
    "colab_type": "text",
    "id": "jiVUAuc6-sPW"
   },
   "source": [
    "Basic operators operate elementwise on arrays. "
   ]
  },
  {
   "cell_type": "code",
   "execution_count": 3,
   "metadata": {
    "colab": {
     "base_uri": "https://localhost:8080/",
     "height": 774
    },
    "colab_type": "code",
    "executionInfo": {
     "elapsed": 1032,
     "status": "ok",
     "timestamp": 1598353566054,
     "user": {
      "displayName": "Haozhe Zhang",
      "photoUrl": "https://lh3.googleusercontent.com/a-/AOh14GhewCb1FImnjURCLugyfalL8wVXJomnuoEHUckN=s64",
      "userId": "15943369882491692800"
     },
     "user_tz": -480
    },
    "id": "Bq5Fyw_K-r7T",
    "outputId": "472596f5-9bbb-40ce-ac7f-3720769c0ce8"
   },
   "outputs": [
    {
     "name": "stdout",
     "output_type": "stream",
     "text": [
      "Consider the two 2x3 matrices:\n",
      "m1:\n",
      "[[1 2 3]\n",
      " [4 5 6]]\n",
      "m2:\n",
      "[[4 5 6]\n",
      " [7 8 9]]\n",
      "\n",
      "--------------\n",
      "\n",
      "Square root:\n",
      "np.sqrt(m1):\n",
      "[[1.         1.41421356 1.73205081]\n",
      " [2.         2.23606798 2.44948974]]\n",
      "\n",
      "--------------------\n",
      "\n",
      "Sum of all values of m1\n",
      "np.sum(m1): 21\n",
      "\n",
      "Sum along rows\n",
      "np.sum(m1, axis=0): [5 7 9]\n",
      "\n",
      "Sum along columns\n",
      "np.sum(m1, axis=1): [ 6 15]\n",
      "\n",
      "--------------\n",
      "\n",
      "Average:\n",
      "np.mean(m1) = 3.5\n",
      "\n",
      "--------------\n",
      "\n",
      "Average over the columns:\n",
      "np.mean(m1, axis=1) = [2. 5.]\n",
      "\n",
      "--------------\n",
      "\n",
      "Max:\n",
      "np.max(m1) = 6\n",
      "\n",
      "--------------\n",
      "\n",
      "m1 + m2:\n",
      "[[ 5  7  9]\n",
      " [11 13 15]]\n",
      "\n",
      "m1 - m2:\n",
      "[[-3 -3 -3]\n",
      " [-3 -3 -3]]\n",
      "\n",
      "m1 * m2:\n",
      "[[ 4 10 18]\n",
      " [28 40 54]]\n"
     ]
    }
   ],
   "source": [
    "print(\"Consider the two 2x3 matrices:\")\n",
    "m1 = np.array([1,2,3,4,5,6]).reshape((2,3))\n",
    "m2 = np.array([4,5,6,7,8,9]).reshape((2,3))\n",
    "print(\"m1:\")\n",
    "print(m1)\n",
    "print(\"m2:\")\n",
    "print(m2)\n",
    "\n",
    "print(\"\\n--------------\\n\")\n",
    "\n",
    "print(\"Square root:\")\n",
    "print(\"np.sqrt(m1):\")\n",
    "print(np.sqrt(m1))\n",
    "\n",
    "print(\"\\n--------------------\\n\")\n",
    "\n",
    "print(\"Sum of all values of m1\")\n",
    "print(\"np.sum(m1):\", np.sum(m1)) # sum of all values\n",
    "print()\n",
    "print(\"Sum along rows\")\n",
    "print(\"np.sum(m1, axis=0):\", np.sum(m1, axis=0)) # sum along rows\n",
    "print()\n",
    "print(\"Sum along columns\")\n",
    "print(\"np.sum(m1, axis=1):\", np.sum(m1, axis=1)) # sum along cols\n",
    "\n",
    "\n",
    "print(\"\\n--------------\\n\")\n",
    "\n",
    "print(\"Average:\")\n",
    "print(\"np.mean(m1) =\", np.mean(m1))\n",
    "\n",
    "print(\"\\n--------------\\n\")\n",
    "\n",
    "print(\"Average over the columns:\")\n",
    "print(\"np.mean(m1, axis=1) =\", np.mean(m1, axis=1))\n",
    "\n",
    "print(\"\\n--------------\\n\")\n",
    "\n",
    "print(\"Max:\")\n",
    "print(\"np.max(m1) =\", np.max(m1))\n",
    "\n",
    "\n",
    "print(\"\\n--------------\\n\")\n",
    "\n",
    "print(\"m1 + m2:\")\n",
    "print(m1 + m2)\n",
    "print()\n",
    "\n",
    "print(\"m1 - m2:\")\n",
    "print(m1 - m2)\n",
    "print()\n",
    "\n",
    "print(\"m1 * m2:\")\n",
    "print(m1 * m2)\n"
   ]
  },
  {
   "cell_type": "markdown",
   "metadata": {
    "colab_type": "text",
    "id": "z1qioxG3_qoh"
   },
   "source": [
    "### Matrix operators"
   ]
  },
  {
   "cell_type": "code",
   "execution_count": 18,
   "metadata": {
    "colab": {
     "base_uri": "https://localhost:8080/",
     "height": 884
    },
    "colab_type": "code",
    "executionInfo": {
     "elapsed": 1204,
     "status": "ok",
     "timestamp": 1596448929571,
     "user": {
      "displayName": "Haozhe Zhang",
      "photoUrl": "https://lh3.googleusercontent.com/a-/AOh14GhewCb1FImnjURCLugyfalL8wVXJomnuoEHUckN=s64",
      "userId": "15943369882491692800"
     },
     "user_tz": -480
    },
    "id": "dip6zgts-kNX",
    "outputId": "f85d8586-b96b-43ab-f2f9-1d2603c3d231"
   },
   "outputs": [
    {
     "name": "stdout",
     "output_type": "stream",
     "text": [
      "Consider the two vectors:\n",
      "v: [1 2 3 4 5 6]\n",
      "w: [ 6  7  8  9 10 11]\n",
      "\n",
      "Dot product\n",
      "v.dot(w): 196\n",
      "np.dot(v, w): 196\n",
      "\n",
      "--------------------\n",
      "\n",
      "Consider the two matrices:\n",
      "m1:\n",
      "[[1 2 3]\n",
      " [4 5 6]]\n",
      "m2:\n",
      "[[ 6  7]\n",
      " [ 8  9]\n",
      " [10 11]]\n",
      "\n",
      "Matrix multiplication\n",
      "m1.shape: (2, 3)\n",
      "m2.shape: (3, 2)\n",
      "(2,3) x (3,2) => (2,2)\n",
      "\n",
      "m1.dot(m2):\n",
      "[[ 52  58]\n",
      " [124 139]]\n",
      "m1 @ m2:\n",
      "[[ 52  58]\n",
      " [124 139]]\n",
      "m1.dot(m2).shape: (2, 2)\n",
      "\n",
      "--------------------\n",
      "\n",
      "Transpose of T\n",
      "m1.T\n",
      "[[1 4]\n",
      " [2 5]\n",
      " [3 6]]\n",
      "m1.T.shape: (3, 2)\n"
     ]
    }
   ],
   "source": [
    "# inner product of matrices / vectors\n",
    "\n",
    "print(\"Consider the two vectors:\")\n",
    "# vectors\n",
    "v = np.array([1,2,3,4,5,6])\n",
    "w = np.array([6,7,8,9,10,11])\n",
    "print(\"v:\", v)\n",
    "print(\"w:\", w)\n",
    "print()\n",
    "\n",
    "\n",
    "\n",
    "# 1*6 + ...\n",
    "print(\"Dot product\")\n",
    "print(\"v.dot(w):\", v.dot(w)) # inner product of v and w\n",
    "print(\"np.dot(v, w):\", np.dot(v, w)) # same as above\n",
    "\n",
    "\n",
    "print(\"\\n--------------------\\n\")\n",
    "print(\"Consider the two matrices:\")\n",
    "m1 = v.reshape((2,3))\n",
    "m2 = w.reshape((3,2))\n",
    "print(\"m1:\")\n",
    "print(m1)\n",
    "print(\"m2:\")\n",
    "print(m2)\n",
    "print()\n",
    "\n",
    "\n",
    "print(\"Matrix multiplication\")\n",
    "\n",
    "# (2,3) x (3,2) => (2,2)\n",
    "print(\"m1.shape:\", m1.shape)\n",
    "print(\"m2.shape:\", m2.shape)\n",
    "print(\"(2,3) x (3,2) => (2,2)\")\n",
    "print()\n",
    "\n",
    "print(\"m1.dot(m2):\")\n",
    "print(m1.dot(m2))\n",
    "\n",
    "print(\"m1 @ m2:\")\n",
    "print(m1 @ m2) # same as above \n",
    "\n",
    "print(\"m1.dot(m2).shape:\", m1.dot(m2).shape)\n",
    "\n",
    "\n",
    "print(\"\\n--------------------\\n\")\n",
    "print(\"Transpose of T\")\n",
    "# transpose\n",
    "print(\"m1.T\")\n",
    "print(m1.T)\n",
    "print(\"m1.T.shape:\", m1.T.shape)\n",
    "\n"
   ]
  },
  {
   "cell_type": "markdown",
   "metadata": {
    "colab_type": "text",
    "id": "UHDjuwR-cqwh"
   },
   "source": [
    "#### **Exercise**: Given a matrix M, how to compute M^T * M"
   ]
  },
  {
   "cell_type": "code",
   "execution_count": 19,
   "metadata": {
    "colab": {
     "base_uri": "https://localhost:8080/",
     "height": 187
    },
    "colab_type": "code",
    "executionInfo": {
     "elapsed": 1482,
     "status": "ok",
     "timestamp": 1596448929857,
     "user": {
      "displayName": "Haozhe Zhang",
      "photoUrl": "https://lh3.googleusercontent.com/a-/AOh14GhewCb1FImnjURCLugyfalL8wVXJomnuoEHUckN=s64",
      "userId": "15943369882491692800"
     },
     "user_tz": -480
    },
    "id": "EJ95Uwxec1fb",
    "outputId": "fc58ec00-f777-4e7e-e537-42691de4b313"
   },
   "outputs": [
    {
     "name": "stdout",
     "output_type": "stream",
     "text": [
      "Consider the matrix m:\n",
      "[[1 2 3]\n",
      " [4 5 6]]\n",
      "m.shape: (2, 3)\n",
      "\n",
      "(3,2) x (2,3) => (3,3)\n",
      "m.T.dot(m): [[17 22 27]\n",
      " [22 29 36]\n",
      " [27 36 45]]\n",
      "m.T.dot(m).shape: (3, 3)\n"
     ]
    }
   ],
   "source": [
    "# init the matrix \n",
    "print(\"Consider the matrix m:\")\n",
    "m = np.array([1,2,3,4,5,6]).reshape(2,3)\n",
    "print(m)\n",
    "print(\"m.shape:\", m.shape)\n",
    "print()\n",
    "\n",
    "print(\"(3,2) x (2,3) => (3,3)\")\n",
    "print(\"m.T.dot(m):\", m.T.dot(m)) # m^T * m\n",
    "print(\"m.T.dot(m).shape:\", m.T.dot(m).shape)\n"
   ]
  },
  {
   "cell_type": "markdown",
   "metadata": {
    "colab_type": "text",
    "id": "hbt3gRIMA7H4"
   },
   "source": [
    "### Broadcasting\n",
    "\n",
    "Broadcast enables applying arithmetic operations on arrays of different shapes. When operating on two arrays, NumPy compares their shapes element-wise. It starts with the trailing dimensions and works its way forward. Two dimensions are compatible when\n",
    "1. they are equal, or\n",
    "2. one of them is 1\n",
    "\n",
    "For example, we can add a constant value to each element of a matrix.\n"
   ]
  },
  {
   "cell_type": "code",
   "execution_count": 20,
   "metadata": {
    "colab": {
     "base_uri": "https://localhost:8080/",
     "height": 340
    },
    "colab_type": "code",
    "executionInfo": {
     "elapsed": 1474,
     "status": "ok",
     "timestamp": 1596448929857,
     "user": {
      "displayName": "Haozhe Zhang",
      "photoUrl": "https://lh3.googleusercontent.com/a-/AOh14GhewCb1FImnjURCLugyfalL8wVXJomnuoEHUckN=s64",
      "userId": "15943369882491692800"
     },
     "user_tz": -480
    },
    "id": "IesFFWZQtn3p",
    "outputId": "95971595-edcb-4f01-df4a-b52aa388dde2"
   },
   "outputs": [
    {
     "name": "stdout",
     "output_type": "stream",
     "text": [
      "Consider the given matrix m:\n",
      "[[2 3 4 5]\n",
      " [3 4 5 6]\n",
      " [4 5 6 7]]\n",
      "m.shape: (3, 4)\n",
      "\n",
      "-----------------\n",
      "\n",
      "Add 1 to every element of m\n",
      "m + 1:\n",
      "[[3 4 5 6]\n",
      " [4 5 6 7]\n",
      " [5 6 7 8]]\n",
      "\n",
      "Power of 2\n",
      "m ** 2:\n",
      "[[ 4  9 16 25]\n",
      " [ 9 16 25 36]\n",
      " [16 25 36 49]]\n"
     ]
    }
   ],
   "source": [
    "print(\"Consider the given matrix m:\")\n",
    "m = np.array([[2,3,4,5], [3,4,5,6], [4,5,6,7]])\n",
    "print(m)\n",
    "print(\"m.shape:\", m.shape)\n",
    "\n",
    "print(\"\\n-----------------\\n\")\n",
    "\n",
    "print(\"Add 1 to every element of m\")\n",
    "print(\"m + 1:\") # add 1 to each element of m\n",
    "print(m + 1)\n",
    "print()\n",
    "\n",
    "print(\"Power of 2\")\n",
    "print(\"m ** 2:\") # in Python, x**2 = x^2\n",
    "print(m ** 2) \n"
   ]
  },
  {
   "cell_type": "markdown",
   "metadata": {
    "colab_type": "text",
    "id": "j_zJclpvtt5m"
   },
   "source": [
    "We can add a vector to each row/column of a matrix (if their sizes are valid). "
   ]
  },
  {
   "cell_type": "code",
   "execution_count": 21,
   "metadata": {
    "colab": {
     "base_uri": "https://localhost:8080/",
     "height": 459
    },
    "colab_type": "code",
    "executionInfo": {
     "elapsed": 1468,
     "status": "ok",
     "timestamp": 1596448929858,
     "user": {
      "displayName": "Haozhe Zhang",
      "photoUrl": "https://lh3.googleusercontent.com/a-/AOh14GhewCb1FImnjURCLugyfalL8wVXJomnuoEHUckN=s64",
      "userId": "15943369882491692800"
     },
     "user_tz": -480
    },
    "id": "ZIwLXFyqrKMp",
    "outputId": "bf4196fa-f387-4ac7-fbb3-78a2f835ccd8"
   },
   "outputs": [
    {
     "name": "stdout",
     "output_type": "stream",
     "text": [
      "Consider the vector v and the matrix m\n",
      "v: [1 2 3 4]\n",
      "v.shape: (4,)\n",
      "\n",
      "m:\n",
      "[[2 3 4 5]\n",
      " [3 4 5 6]\n",
      " [4 5 6 7]]\n",
      "m.shape (3, 4)\n",
      "\n",
      "-----------------\n",
      "\n",
      "Add v to each row of m by iteration:\n",
      "m:\n",
      "[[ 3  5  7  9]\n",
      " [ 4  6  8 10]\n",
      " [ 5  7  9 11]]\n",
      "\n",
      "-----------------\n",
      "\n",
      "Add v to each row of m by broadcasting:\n",
      "m += v\n",
      "m:\n",
      "[[ 3  5  7  9]\n",
      " [ 4  6  8 10]\n",
      " [ 5  7  9 11]]\n"
     ]
    }
   ],
   "source": [
    "# suppose we want to add the vector to each row of the matrix m\n",
    "v = np.array([1,2,3,4])\n",
    "m = np.array([[2,3,4,5], [3,4,5,6], [4,5,6,7]])\n",
    "print(\"Consider the vector v and the matrix m\")\n",
    "print(\"v:\", v)\n",
    "print(\"v.shape:\", v.shape)\n",
    "print()\n",
    "print(\"m:\")\n",
    "print(m)\n",
    "print(\"m.shape\", m.shape)\n",
    "\n",
    "\n",
    "print(\"\\n-----------------\\n\")\n",
    "\n",
    "print(\"Add v to each row of m by iteration:\")\n",
    "# by iteration\n",
    "for row in m:\n",
    "  row += v\n",
    "\n",
    "print(\"m:\")\n",
    "print(m)\n",
    "\n",
    "m = np.array([[2,3,4,5], [3,4,5,6], [4,5,6,7]]) # recover the values of m\n",
    "print(\"\\n-----------------\\n\")\n",
    "# by broadcasting\n",
    "print(\"Add v to each row of m by broadcasting:\")\n",
    "m += v\n",
    "print(\"m += v\")\n",
    "print(\"m:\")\n",
    "print(m)\n",
    "\n",
    "\n"
   ]
  },
  {
   "cell_type": "markdown",
   "metadata": {
    "colab_type": "text",
    "id": "Ibu5Zg0hfMjh"
   },
   "source": [
    "#### **Exercise**: Add a vector to each column of a matrix"
   ]
  },
  {
   "cell_type": "code",
   "execution_count": 22,
   "metadata": {
    "colab": {
     "base_uri": "https://localhost:8080/",
     "height": 510
    },
    "colab_type": "code",
    "executionInfo": {
     "elapsed": 1460,
     "status": "ok",
     "timestamp": 1596448929858,
     "user": {
      "displayName": "Haozhe Zhang",
      "photoUrl": "https://lh3.googleusercontent.com/a-/AOh14GhewCb1FImnjURCLugyfalL8wVXJomnuoEHUckN=s64",
      "userId": "15943369882491692800"
     },
     "user_tz": -480
    },
    "id": "lWPCkC-ysIHr",
    "outputId": "84641c50-efac-4d0d-8592-cbd45c679178"
   },
   "outputs": [
    {
     "name": "stdout",
     "output_type": "stream",
     "text": [
      "Consider the vector v and the matrix m\n",
      "v: [1 2 3]\n",
      "v.shape: (3,)\n",
      "\n",
      "m:\n",
      "[[2 3 4 5]\n",
      " [3 4 5 6]\n",
      " [4 5 6 7]]\n",
      "m.shape (3, 4)\n",
      "\n",
      "-------------\n",
      "\n",
      "Idea: add v to each row of the transpose of m\n",
      "m.T\n",
      "[[2 3 4]\n",
      " [3 4 5]\n",
      " [4 5 6]\n",
      " [5 6 7]]\n",
      "\n",
      "m.T + v\n",
      "[[ 3  5  7]\n",
      " [ 4  6  8]\n",
      " [ 5  7  9]\n",
      " [ 6  8 10]]\n",
      "\n",
      "m = (m.T + v).T:\n",
      "[[ 3  4  5  6]\n",
      " [ 5  6  7  8]\n",
      " [ 7  8  9 10]]\n"
     ]
    }
   ],
   "source": [
    "# init the vector and the matrix\n",
    "v = np.array([1,2,3])\n",
    "m = np.array([[2,3,4,5], [3,4,5,6], [4,5,6,7]])\n",
    "print(\"Consider the vector v and the matrix m\")\n",
    "print(\"v:\", v)\n",
    "print(\"v.shape:\", v.shape)\n",
    "print()\n",
    "print(\"m:\")\n",
    "print(m)\n",
    "print(\"m.shape\", m.shape)\n",
    "\n",
    "\n",
    "\n",
    "print(\"\\n-------------\\n\")\n",
    "\n",
    "# m has shape (3,4) while v has shape (3,)\n",
    "# we can transpose the matrix and apply the broadcast on each row, \n",
    "# then transpose back\n",
    "# note: the transpose operation is cheap\n",
    "\n",
    "print(\"Idea: add v to each row of the transpose of m\")\n",
    "print(\"m.T\")\n",
    "print(m.T)\n",
    "print()\n",
    "\n",
    "\n",
    "print(\"m.T + v\")\n",
    "print(m.T + v)\n",
    "print()\n",
    "\n",
    "\n",
    "print(\"m = (m.T + v).T:\")\n",
    "m = (m.T + v).T\n",
    "print(m)\n",
    "\n",
    "\n"
   ]
  },
  {
   "cell_type": "markdown",
   "metadata": {
    "colab_type": "text",
    "id": "4xSnMvBgTCC7"
   },
   "source": [
    "#### **Exercise**: Data normalization\n",
    "\n",
    "Scale the data to a the range from 0 to 1\n"
   ]
  },
  {
   "cell_type": "code",
   "execution_count": 23,
   "metadata": {
    "colab": {
     "base_uri": "https://localhost:8080/",
     "height": 316
    },
    "colab_type": "code",
    "executionInfo": {
     "elapsed": 1028,
     "status": "ok",
     "timestamp": 1598354193343,
     "user": {
      "displayName": "Haozhe Zhang",
      "photoUrl": "https://lh3.googleusercontent.com/a-/AOh14GhewCb1FImnjURCLugyfalL8wVXJomnuoEHUckN=s64",
      "userId": "15943369882491692800"
     },
     "user_tz": -480
    },
    "id": "YbRJQC-eTWV1",
    "outputId": "5e7aaebf-3c31-4891-df56-b667ead9d526"
   },
   "outputs": [
    {
     "name": "stdout",
     "output_type": "stream",
     "text": [
      "Consider the matrix m with random values from 0 to 100\n",
      "[[64.34731346 85.60708245 16.0225668  98.71510176]\n",
      " [14.66492365 36.49058662 35.48732478 34.83450828]\n",
      " [ 3.51749024 82.52332129 66.71195951 66.02578677]\n",
      " [71.61820506 71.3510499  69.26099357 72.68446362]\n",
      " [29.85580894  6.15446281  3.08787574 31.30825761]]\n",
      "m.shape (5, 4)\n",
      "\n",
      "-------------\n",
      "\n",
      "Normalized m\n",
      "[[0.64060666 0.86292586 0.13526159 1.        ]\n",
      " [0.12106435 0.34930126 0.33880988 0.3319832 ]\n",
      " [0.0044926  0.83067813 0.66533441 0.65815891]\n",
      " [0.71664036 0.71384664 0.69199035 0.72779051]\n",
      " [0.27991958 0.03206814 0.         0.29510823]]\n",
      "m_norm.shape (5, 4)\n"
     ]
    }
   ],
   "source": [
    "# init the matrix\n",
    "m = np.random.random((5,4)) * 100\n",
    "print(\"Consider the matrix m with random values from 0 to 100\")\n",
    "print(m)\n",
    "print(\"m.shape\", m.shape)\n",
    "\n",
    "# A min-max scaling is typically done via the following equation:\n",
    "# m_norm = (m - m_min) / (m_max - m_min)\n",
    "# where m_min and m_max are the minimal and maximum values in m\n",
    "\n",
    "print(\"\\n-------------\\n\")\n",
    "\n",
    "m_min = m.min() # np.min(m)\n",
    "m_max = m.max() # np.max(m)\n",
    "m_norm = (m - m_min) / (m_max - m_min)\n",
    "\n",
    "print(\"Normalized m\")\n",
    "print(m_norm)\n",
    "print(\"m_norm.shape\", m_norm.shape)\n"
   ]
  },
  {
   "cell_type": "markdown",
   "metadata": {
    "colab_type": "text",
    "id": "rNP1ktwgV2vR"
   },
   "source": [
    "#### **Exercise**: Column-wise data normalization\n",
    "\n",
    "Can you do the data normalization column-wisely?"
   ]
  }
 ],
 "metadata": {
  "colab": {
   "authorship_tag": "ABX9TyPnTE5216lxtKxeWGgCsPyd",
   "collapsed_sections": [],
   "name": "Practical1_numpy.ipynb",
   "provenance": [
    {
     "file_id": "1TLiBRTAANYjg81vF9OAqglBygkfFF7Ly",
     "timestamp": 1593718352365
    }
   ],
   "toc_visible": true
  },
  "kernelspec": {
   "display_name": "Python 3",
   "language": "python",
   "name": "python3"
  },
  "language_info": {
   "codemirror_mode": {
    "name": "ipython",
    "version": 3
   },
   "file_extension": ".py",
   "mimetype": "text/x-python",
   "name": "python",
   "nbconvert_exporter": "python",
   "pygments_lexer": "ipython3",
   "version": "3.7.6"
  }
 },
 "nbformat": 4,
 "nbformat_minor": 4
}
