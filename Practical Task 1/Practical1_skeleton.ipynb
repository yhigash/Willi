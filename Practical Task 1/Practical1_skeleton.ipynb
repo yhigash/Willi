{
  "nbformat": 4,
  "nbformat_minor": 0,
  "metadata": {
    "colab": {
      "name": "Practical1_starter.ipynb",
      "provenance": [],
      "collapsed_sections": []
    },
    "kernelspec": {
      "display_name": "Python 3",
      "language": "python",
      "name": "python3"
    },
    "language_info": {
      "codemirror_mode": {
        "name": "ipython",
        "version": 3
      },
      "file_extension": ".py",
      "mimetype": "text/x-python",
      "name": "python",
      "nbconvert_exporter": "python",
      "pygments_lexer": "ipython3",
      "version": "3.8.3"
    }
  },
  "cells": [
    {
      "cell_type": "markdown",
      "metadata": {
        "id": "id1w7kwZVF3I"
      },
      "source": [
        "# Practical 1 : Implementation of Linear Regression (Ridge, Lasso)\n",
        "\n",
        "- Train a linear model\n",
        "    - using least squares method\n",
        "    - implement the model from scratch using NumPy \n",
        "    - Use learning curves plot to understand whether the linear moel is overfitting or underfitting\n",
        "- Train linear models with \n",
        "    - regularization (Ridge and Lasso)\n",
        "    - polynomial basis expansion\n",
        "    - use validation data to choose the hyperparameters\n",
        "    - scikit-learn\n",
        "    - Optional task: Use k-fold cross validation to choose the optimal hyperparameters (5 bonus points)\n",
        "\n",
        "We will use the following packages:"
      ]
    },
    {
      "cell_type": "code",
      "metadata": {
        "id": "CTZv9o5i4gy3"
      },
      "source": [
        "import numpy as np\n",
        "import matplotlib.pyplot as plt\n",
        "import _pickle as cp"
      ],
      "execution_count": null,
      "outputs": []
    },
    {
      "cell_type": "markdown",
      "metadata": {
        "id": "b1-ZQWqTVPno"
      },
      "source": [
        "We will use the winequality dataset for this practical. The dataset is available here:\n",
        "https://archive.ics.uci.edu/ml/datasets/Wine+Quality. \n",
        "In order to make it easier to import the dataset, the dataset has been converted to the numpy array format and shuffled, so that we can start the practical directly. The converted dataset is available on the OLAT page."
      ]
    },
    {
      "cell_type": "markdown",
      "metadata": {
        "id": "TzDL9RQiVaPY"
      },
      "source": [
        "The dataset has two files. We’ll focus on the white wine data, which is the larger dataset. The following code loads the data:"
      ]
    },
    {
      "cell_type": "code",
      "metadata": {
        "colab": {
          "base_uri": "https://localhost:8080/",
          "height": 51
        },
        "id": "NYkwbebUVO_i",
        "outputId": "80ed8916-85c3-4564-cda8-d8a8f36aaa1d"
      },
      "source": [
        "# load the white wine dataset\n",
        "# X is the feature matrix that stores the feature values of the data records\n",
        "# y is the label vector that stores the labels of the data records\n",
        "X, y = cp.load(open('winequality-white.pickle', 'rb'))\n",
        "\n",
        "# check the size of the data\n",
        "print(\"X is a {} matrix, which contains {} data records and {} features.\".format(X.shape, X.shape[0], X.shape[1]))\n",
        "print(\"y is a {}-dimentional vector, which stores the corresponding labels of the data records in X\".format(y.shape[0]))\n"
      ],
      "execution_count": null,
      "outputs": [
        {
          "name": "stdout",
          "output_type": "stream",
          "text": [
            "X is a (4898, 11) matrix, which contains 4898 data records and 11 features.\n",
            "y is a 4898-dimentional vector, which stores the corresponding labels of the data records in X\n"
          ]
        }
      ]
    },
    {
      "cell_type": "markdown",
      "metadata": {
        "id": "CGuNg0KbWN0z"
      },
      "source": [
        "We next split the data into training data and test data. \n",
        "In practice, we should sample randomly 80% of the data as training data and the rest as the test data. . \n",
        "However, in order to get consistent results, we use the first 80% of the data as training\n",
        "data and the remaining as the test data. \n",
        "To achieve this split, we define the following function."
      ]
    },
    {
      "cell_type": "code",
      "metadata": {
        "colab": {
          "base_uri": "https://localhost:8080/",
          "height": 85
        },
        "id": "6ZqbBa8bWNYg",
        "outputId": "da274c4e-c3ed-4ac0-8442-27befcf26f4c"
      },
      "source": [
        "# The function splits the dataset into training data and testing data.\n",
        "# The parameter split_coeff is a percentage value such that\n",
        "# the first split_coeff of the dataset goes to the training dataset \n",
        "# and the remaining data goes to the test dataset.\n",
        "def split_data(X, y, split_coeff):\n",
        "    N, _ = X.shape # get the number of records (rows)\n",
        "    train_size = int(split_coeff * N) # use the first split_coeff of the data as the training data\n",
        "    X_train = X[:train_size] # the first training_size records\n",
        "    y_train = y[:train_size]\n",
        "    X_test = X[train_size:] # the last test_size records\n",
        "    y_test = y[train_size:]\n",
        "    return X_train, y_train, X_test, y_test\n",
        "\n",
        "X_train, y_train, X_test, y_test = split_data(X, y, 0.8) # split the data with split_coeff=0.8\n",
        "\n",
        "# check the size of the splitted dataset\n",
        "print(\"Shape of X_train:\", X_train.shape)\n",
        "print(\"Shape of y_train:\", y_train.shape)\n",
        "print(\"Shape of X_test:\", X_test.shape)\n",
        "print(\"Shape of y_test:\", y_test.shape)"
      ],
      "execution_count": null,
      "outputs": [
        {
          "name": "stdout",
          "output_type": "stream",
          "text": [
            "Shape of X_train: (3918, 11)\n",
            "Shape of y_train: (3918,)\n",
            "Shape of X_test: (980, 11)\n",
            "Shape of y_test: (980,)\n"
          ]
        }
      ]
    },
    {
      "cell_type": "markdown",
      "metadata": {
        "id": "q2yKNR49Wkn8"
      },
      "source": [
        "## Understanding What We’re Predicting\n",
        "\n",
        "Let’s first check\n",
        "the distribution of the y-values in the training data. \n",
        "You will find that the values are integers between 3 and 9 indicating the quality of the wine.\n"
      ]
    },
    {
      "cell_type": "markdown",
      "metadata": {
        "id": "-PMpsZNSWthB"
      },
      "source": [
        "### **Task 1**\n",
        "Make a bar chart showing the distribution of y-values in the training data. You will find that the y-values are integers from 3 to 9, which indicate the quality of the wines."
      ]
    },
    {
      "cell_type": "code",
      "metadata": {
        "colab": {
          "base_uri": "https://localhost:8080/",
          "height": 295
        },
        "id": "4L_JDK3dWrsR",
        "outputId": "71b22bf6-77ce-4bd6-d5b1-61f633923144"
      },
      "source": [
        "#@title\n",
        "# Task 1: \n",
        "# the function takes the y-values in the training data as the input and makes the bar chart. \n",
        "# Hint: Your function should make a bar chart looks like the bar chart below.\n",
        "def plot_bar_chart_score(y_train):\n",
        "    ###################################################\n",
        "    ##### YOUR CODE STARTS HERE #######################\n",
        "    ###################################################\n",
        "    pass\n",
        "    ###################################################\n",
        "    ##### YOUR CODE ENDS HERE #########################\n",
        "    ###################################################\n",
        "\n",
        "plot_bar_chart_score(y_train)"
      ],
      "execution_count": null,
      "outputs": [
        {
          "data": {
            "image/png": "[encoded data removed]",
            "text/plain": [
              "<Figure size 432x288 with 1 Axes>"
            ]
          },
          "metadata": {
            "needs_background": "light",
            "tags": []
          },
          "output_type": "display_data"
        }
      ]
    },
    {
      "cell_type": "markdown",
      "metadata": {
        "id": "GxjlElni2FcH"
      },
      "source": [
        "### **Task 2** \n",
        "This task is to build a trivial predictor, which always returns the mean of the y-values of the training data. We consider the trivial model as a baseline. The linear regression models we build later should perform better than this trivial model. "
      ]
    },
    {
      "cell_type": "code",
      "metadata": {
        "colab": {
          "base_uri": "https://localhost:8080/",
          "height": 34
        },
        "id": "-V3xFYexX1lt",
        "outputId": "5e57738e-87d5-408c-f1bf-9df66a175f35"
      },
      "source": [
        "#@title\n",
        "# Task 2: implement the trivial predictor\n",
        "# The function computes the average value of y on the training label values\n",
        "def compute_average(y_train):\n",
        "    # The code below is just for compilation. \n",
        "    # You need to delete it and write your own code.\n",
        "    ###################################################\n",
        "    ##### YOUR CODE STARTS HERE #######################\n",
        "    ###################################################\n",
        "    # Hint: return the mean of y_train\n",
        "    return 0\n",
        "    ###################################################\n",
        "    ##### YOUR CODE ENDS HERE #########################\n",
        "    ###################################################\n",
        "\n",
        "y_train_avg = compute_average(y_train)\n",
        "print(\"Average of y on the training label values is {}\".format(y_train_avg))\n",
        "\n",
        "# The trivial predictor returns the average value.\n",
        "def trivial_predictor(X_test, y_train_avg):\n",
        "  return y_train_avg\n"
      ],
      "execution_count": null,
      "outputs": [
        {
          "name": "stdout",
          "output_type": "stream",
          "text": [
            "Average of y on the training label values is 0\n"
          ]
        }
      ]
    },
    {
      "cell_type": "markdown",
      "metadata": {
        "id": "x531Q_SxXV14"
      },
      "source": [
        "### **Task 3**\n",
        "We next evaluate the trivial predictor on the training data and test data. \n",
        "We use mean squared error (MSE) to measure the performance of the predictor.\n",
        "The task is to implement a function that reports the mean squared error of the given predictor on the given data. "
      ]
    },
    {
      "cell_type": "code",
      "metadata": {
        "colab": {
          "base_uri": "https://localhost:8080/",
          "height": 102
        },
        "id": "mV8l6Ci9YlgL",
        "outputId": "f57858dc-d0fc-40fe-dbf7-c652d2f8fddb"
      },
      "source": [
        "# We next test our trivial predictor on the training data and test data. \n",
        "# Implement a function that can report the mean squared error \n",
        "# of a predictor on the given data\n",
        "# Input: data and predictor\n",
        "# Output: mean squared error of the predictor on the given data\n",
        "def test_predictor(X, y, predictor: callable=None):\n",
        "    # Apply the predictor to each row of the matrix X to get the predictions\n",
        "    y_predicted = np.apply_along_axis(predictor, 1, X)\n",
        "\n",
        "    # TODO: compute the mean squared error of y\n",
        "    # The code below is just for compilation. \n",
        "    # You need to delete it and write your own code.\n",
        "    ###################################################\n",
        "    ##### YOUR CODE STARTS HERE #######################\n",
        "    ###################################################\n",
        "    mse = 0\n",
        "    ###################################################\n",
        "    ##### YOUR CODE ENDS HERE #########################\n",
        "    ###################################################\n",
        "    \n",
        "    return mse\n",
        "\n",
        "# use the function test_predictor to test the trivial predictor\n",
        "# we use the lambda function here to pass the function trivial predictor to the function test_predictor.\n",
        "mse_trivial_predictor_train = test_predictor(X_train, y_train, lambda x: trivial_predictor(x, y_train_avg))\n",
        "mse_trivial_predictor_test = test_predictor(X_test, y_test, lambda x: trivial_predictor(x, y_train_avg))\n",
        "\n",
        "# Report the result\n",
        "print('Trivial Predictor')\n",
        "print('--------------------------------------------------------------------------------\\n')\n",
        "print('MSE (Training) = %.4f' % mse_trivial_predictor_train)\n",
        "print('MSE (Testing)  = %.4f' % mse_trivial_predictor_test)"
      ],
      "execution_count": null,
      "outputs": [
        {
          "name": "stdout",
          "output_type": "stream",
          "text": [
            "Simplest Predictor\n",
            "--------------------------------------------------------------------------------\n",
            "\n",
            "MSE (Training) = 0.0000\n",
            "MSE (Testing)  = 0.0000\n"
          ]
        }
      ]
    },
    {
      "cell_type": "markdown",
      "metadata": {
        "id": "geiyM1Nea0az"
      },
      "source": [
        "## Train the Linear Model Using Least Squares Method\n",
        "\n",
        "Let us train a linear model on the training data and then check its MSE. \n",
        "We use the closed form solution of the least squares estimate to get the parameters of the linear model. \n",
        "The linear model should perform better than the trivial predictor."
      ]
    },
    {
      "cell_type": "markdown",
      "metadata": {
        "id": "WSEwFGp_bqAI"
      },
      "source": [
        "### **Task 4**\n",
        "Before training the model, we need to standardize the data, i.e., transform the data so that every feature has mean 0 and variance 1. \n",
        "\n",
        "https://en.wikipedia.org/wiki/Standard_score\n",
        "\n",
        "We first standardize the training data. \n",
        "Then we apply the same transformation to the test data, i.e. standardize the test data using the means and the standard deviations of the training data. "
      ]
    },
    {
      "cell_type": "code",
      "metadata": {
        "colab": {
          "base_uri": "https://localhost:8080/",
          "height": 68
        },
        "id": "trjwkcgybhDH",
        "outputId": "d87a4635-354f-47e2-947a-e843f027e4cb"
      },
      "source": [
        "# The task is to implement a function that can standardize the data and returns the mean and std of the data.\n",
        "# Input: training data\n",
        "# Output: standardize training data, standard deviations and means\n",
        "def standardize_data(X):\n",
        "    # TODO: compute the means and standard deviations of the data, and standardize the data\n",
        "    # The code below is just for compilation. \n",
        "    # You need to replace it by your own code.\n",
        "    ###################################################\n",
        "    ##### YOUR CODE STARTS HERE #######################\n",
        "    ###################################################\n",
        "    mean = np.zeros(X.shape[1])\n",
        "    std = np.zeros(X.shape[1])\n",
        "    X_std = X\n",
        "    ###################################################\n",
        "    ##### YOUR CODE ENDS HERE #########################\n",
        "    ###################################################\n",
        "    \n",
        "    return X_std, mean, std\n",
        "\n",
        "# Standardize the training data and store the means and the stds \n",
        "X_train_std, X_train_mean, X_train_std_div = standardize_data(X_train)\n",
        "print(\"X_train_std:\", X_train_std.shape)\n",
        "print(\"Mean:\", X_train_mean)\n",
        "print(\"Standard deviation:\", X_train_std_div)"
      ],
      "execution_count": null,
      "outputs": [
        {
          "name": "stdout",
          "output_type": "stream",
          "text": [
            "X_train_std: (3918, 11)\n",
            "Mean: [0. 0. 0. 0. 0. 0. 0. 0. 0. 0. 0.]\n",
            "Standard deviation: [0. 0. 0. 0. 0. 0. 0. 0. 0. 0. 0.]\n"
          ]
        }
      ]
    },
    {
      "cell_type": "code",
      "metadata": {
        "colab": {
          "base_uri": "https://localhost:8080/",
          "height": 102
        },
        "id": "RjzbA5JpM759",
        "outputId": "ff594788-2fdd-419c-98fa-beac6a53cfc9"
      },
      "source": [
        "# TODO: Standardize the test data using the means and standrad deviations of the training data\n",
        "###################################################\n",
        "##### YOUR CODE STARTS HERE #######################\n",
        "###################################################\n",
        "X_test_std = X_test\n",
        "print(X_test_std.shape)\n",
        "###################################################\n",
        "##### YOUR CODE ENDS HERE #########################\n",
        "###################################################"
      ],
      "execution_count": null,
      "outputs": [
        {
          "name": "stdout",
          "output_type": "stream",
          "text": [
            "(980, 11)\n"
          ]
        }
      ]
    },
    {
      "cell_type": "markdown",
      "metadata": {
        "id": "cRPPA6HMbNOr"
      },
      "source": [
        "### **Task 5**\n",
        "We have standardized X-values. Do we need to standardize the y-values? Why?"
      ]
    },
    {
      "cell_type": "markdown",
      "metadata": {
        "id": "9he5QMmfqL3_"
      },
      "source": [
        "(Add the answer to Task 5 here in text)"
      ]
    },
    {
      "cell_type": "markdown",
      "metadata": {
        "id": "vT4_Sl42bxmD"
      },
      "source": [
        "### **Task 6**\n",
        "Let's now train the linear model using the least-squares method. \n",
        "We need to add the bias term to the matrix X. "
      ]
    },
    {
      "cell_type": "code",
      "metadata": {
        "colab": {
          "base_uri": "https://localhost:8080/",
          "height": 34
        },
        "id": "A4JtLr6pdJV7",
        "outputId": "dfd57312-284f-4ce9-820b-4fdbdfbec8c4"
      },
      "source": [
        "# The task is to implement the function that adds a column of ones to the front of the input matrix\n",
        "def expand_with_ones(X):\n",
        "    # TODO: add a column of ones to the front of the input matrix\n",
        "    # The code below is just for compilation. \n",
        "    # You need to replace it by your own code.\n",
        "    ###################################################\n",
        "    ##### YOUR CODE STARTS HERE #######################\n",
        "    ###################################################\n",
        "    X_out = X\n",
        "    return X_out\n",
        "    ###################################################\n",
        "    ##### YOUR CODE ENDS HERE #########################\n",
        "    ###################################################\n",
        "\n",
        "# Train the linear model using the least-squares method\n",
        "# The task is to implement the function that computes the parameters\n",
        "def least_squares_compute_parameters(X_input, y):\n",
        "    # add the bias column to the data\n",
        "    X = expand_with_ones(X_input)\n",
        "\n",
        "    # TODO: compute the parameters based on the expanded X and y using the least-squares method\n",
        "    # The code below is just for compilation. \n",
        "    # You need to replace it by your own code.\n",
        "    ###################################################\n",
        "    ##### YOUR CODE STARTS HERE #######################\n",
        "    ###################################################\n",
        "    w = np.zeros(X.shape[1])\n",
        "    return w\n",
        "    ###################################################\n",
        "    ##### YOUR CODE ENDS HERE #########################\n",
        "    ###################################################\n",
        "\n",
        "# Apply the function to train the linear model\n",
        "w = least_squares_compute_parameters(X_train_std, y_train) \n",
        "print(\"w:\", w.shape)"
      ],
      "execution_count": null,
      "outputs": [
        {
          "name": "stdout",
          "output_type": "stream",
          "text": [
            "w: (11,)\n"
          ]
        }
      ]
    },
    {
      "cell_type": "markdown",
      "metadata": {
        "id": "lasj_1PpeZib"
      },
      "source": [
        "After computing the parameters,\n",
        "we can build the linear model predictor.\n",
        "The predictor takes as input the computed parameters and the data, and predicts the labels for the input data."
      ]
    },
    {
      "cell_type": "code",
      "metadata": {
        "id": "Lb-hNagxc3Wj"
      },
      "source": [
        "# Implement the linear model predictor\n",
        "# Input: test data and parameters\n",
        "# Output: predicted values\n",
        "def linear_model_predictor(X, w):\n",
        "    # TODO: predict the labels for the input data\n",
        "    # The code below is just for compilation. \n",
        "    # You need to replace it by your own code.\n",
        "    ###################################################\n",
        "    ##### YOUR CODE STARTS HERE #######################\n",
        "    ###################################################\n",
        "    return 0\n",
        "    ###################################################\n",
        "    ##### YOUR CODE ENDS HERE #########################\n",
        "    ###################################################\n"
      ],
      "execution_count": null,
      "outputs": []
    },
    {
      "cell_type": "markdown",
      "metadata": {
        "id": "cFOYpwbufz7J"
      },
      "source": [
        "We can now evaluate our linear model predictor on the test data. "
      ]
    },
    {
      "cell_type": "code",
      "metadata": {
        "colab": {
          "base_uri": "https://localhost:8080/",
          "height": 34
        },
        "id": "LuHHmn2RB55j",
        "outputId": "b6cb4556-2618-419a-a082-214f2e6ecb5e"
      },
      "source": [
        "# use the function test_predictor to evaluate the linear model predictor\n",
        "mse_linear_model_predictor = test_predictor(expand_with_ones(X_test_std), y_test, lambda x: linear_model_predictor(x, w))\n",
        "print(\"Mean squared error is {}\".format(mse_linear_model_predictor))"
      ],
      "execution_count": null,
      "outputs": [
        {
          "name": "stdout",
          "output_type": "stream",
          "text": [
            "Mean squared error is 0\n"
          ]
        }
      ]
    },
    {
      "cell_type": "markdown",
      "metadata": {
        "id": "zqj4HKAihF7Q"
      },
      "source": [
        "## Learning Curves\n",
        "\n",
        "Let us check if the linear model is overfitting or underfitting. Since the dataset is somewhat large and there are only 11 features, the model shouldn't be overfitting. \n",
        "To check it, we need to check the learning curves, i.e. how the performance of the model changes when it is trained with increasingly more data. \n",
        "We train the model on the increasingly more data ([20, 40, ..., 600] data records), and evaluate the model by computing the MSE of the model on both the training data and the test data. \n",
        "We use the collected MSE to build the learning curves plot. "
      ]
    },
    {
      "cell_type": "markdown",
      "metadata": {
        "id": "MNf11kurCgKF"
      },
      "source": [
        "### **Task 7** \n",
        "\n",
        "Let's first implement a function that comprises what we have implemented above. \n",
        "The function takes as inputs the data and the split coefficient, and\n",
        "1. standardizes the data,\n",
        "2. trains the linear model, and\n",
        "3. reports the mse of the linear model predictor on both training and test datasets. "
      ]
    },
    {
      "cell_type": "code",
      "metadata": {
        "colab": {
          "base_uri": "https://localhost:8080/",
          "height": 102
        },
        "id": "UcGRQBrEb106",
        "outputId": "179c5ec0-ee87-4c4b-a02b-d97d55862e1f"
      },
      "source": [
        "# Input: training data and test data\n",
        "# Output: mse of the linear model predictor on both the training and test data\n",
        "def train_and_test(X_train, y_train, X_test, y_test):\n",
        "    # TODO: implement the function \n",
        "    # The code below is just for compilation. \n",
        "    # You need to replace it by your own code.\n",
        "    ###################################################\n",
        "    ##### YOUR CODE STARTS HERE #######################\n",
        "    ###################################################\n",
        "    # Hints: use the functions you have implemented\n",
        "    mse_train = 0\n",
        "    mse_test = 0\n",
        "    return mse_train, mse_test\n",
        "    ###################################################\n",
        "    ##### YOUR CODE ENDS HERE #########################\n",
        "    ###################################################\n",
        "\n",
        "mse_train, mse_test = train_and_test(X_train, y_train, X_test, y_test)\n",
        "print('Linear Model')\n",
        "print('-----------------------\\n')\n",
        "print('MSE (Training) = %.4f' % mse_train)\n",
        "print('MSE (Testing)  = %.4f' % mse_test)\n"
      ],
      "execution_count": null,
      "outputs": [
        {
          "name": "stdout",
          "output_type": "stream",
          "text": [
            "Linear Model\n",
            "-----------------------\n",
            "\n",
            "MSE (Training) = 0.0000\n",
            "MSE (Testing)  = 0.0000\n"
          ]
        }
      ]
    },
    {
      "cell_type": "markdown",
      "metadata": {
        "id": "NTJw_BrzhRwi"
      },
      "source": [
        "We are now ready to report the learning curves.\n",
        "The task is to train the linear model on the increasingly more data ([20, 40, ..., 600] data records)\n",
        "and store the MSE of the trained model on the training data and the test data in the lists `mse_train_v` and `mse_test`, respectively. \n",
        "We have provided the code for generating the learning curves from `mse_train_v` and `mse_test`."
      ]
    },
    {
      "cell_type": "code",
      "metadata": {
        "colab": {
          "base_uri": "https://localhost:8080/",
          "height": 279
        },
        "id": "jDsdh4T3hcIU",
        "outputId": "621c4890-1c55-4e9b-f28f-33d60907d8b9"
      },
      "source": [
        "mse_train_v = []\n",
        "mse_test_v = []\n",
        "\n",
        "TRAINING_SIZE_MAX = 601\n",
        "TRAINING_SIZE_MIN = 20\n",
        "\n",
        "# compute the MSE over data with sizes from TRAINING_SIZE_MIN to TRAINING_SIZE_MAX with increasing step 20\n",
        "for train_size in range(TRAINING_SIZE_MIN, TRAINING_SIZE_MAX, 20):\n",
        "    # TODO: \n",
        "    #   1. use the first train_size data records from the X_train and y_train as the training data\n",
        "    #   2. train and compute the MSE on both training and test data using the train_and_test function\n",
        "    #   3. add the computed MSE to the lists mse_train_v and mse_test_v\n",
        "    # The code below is just for compilation. \n",
        "    # You need to replace it by your own code.\n",
        "    ###################################################\n",
        "    ##### YOUR CODE STARTS HERE #######################\n",
        "    ###################################################\n",
        "    mse_train = 0\n",
        "    mse_test = 0\n",
        "    \n",
        "    mse_train_v.append(mse_train)\n",
        "    mse_test_v.append(mse_test)\n",
        "    ###################################################\n",
        "    ##### YOUR CODE ENDS HERE #########################\n",
        "    ###################################################\n",
        "    \n",
        "\n",
        "# The below code generates the learning curves plot\n",
        "plt.figure(2)\n",
        "plt.plot(np.arange(TRAINING_SIZE_MIN, TRAINING_SIZE_MAX, 20), mse_train_v, 'r--', label=\"Training Error\")\n",
        "plt.plot(np.arange(TRAINING_SIZE_MIN, TRAINING_SIZE_MAX, 20), mse_test_v, 'b-', label=\"Test Error\")\n",
        "plt.xlabel('Dataset Size')\n",
        "plt.ylabel('Mean Squared Error')\n",
        "plt.show()"
      ],
      "execution_count": null,
      "outputs": [
        {
          "data": {
            "image/png": "[encoded data removed]",
            "text/plain": [
              "<Figure size 432x288 with 1 Axes>"
            ]
          },
          "metadata": {
            "needs_background": "light"
          },
          "output_type": "display_data"
        }
      ]
    },
    {
      "cell_type": "markdown",
      "metadata": {
        "id": "fz341oaCC5Hh"
      },
      "source": [
        "### **Task 8**\n",
        "Explain whether you think the model is underfitting or not and how much data you need before getting the optimal test error."
      ]
    },
    {
      "cell_type": "markdown",
      "metadata": {
        "id": "9A9VqDTzOdfd"
      },
      "source": [
        "(Add the answer to Task 8 here in text)"
      ]
    },
    {
      "cell_type": "markdown",
      "metadata": {
        "id": "djpsaTu_kK3T"
      },
      "source": [
        "## Polynomial Basis Expansion and Regularisation\n",
        "\n",
        "In this part, we will try to improve the linear model by basis expansion and regularisation. \n",
        "\n",
        "The task is to \n",
        "1. apply the degree 2 basis expansion to the data, \n",
        "2. build the Ridge and Lasso models using scikit-learn, and\n",
        "3. perform hyperparameter optimization to find the optimal hyperparameter lambda. \n",
        "\n",
        "For the hyperparameter optimization, you should set the last 20% of the training data for the purpose of validation and \n",
        "try lambda values [10^-4, 10^-3, 10^-2, 10^-1, 1, 10, 100]. \n",
        "\n",
        "\n",
        "We will use the scikit-learn package. You can import other scikit-learn packages if you think they are useful. Read the documentation available here: http://scikit-learn.org/stable/modules/classes.html"
      ]
    },
    {
      "cell_type": "code",
      "metadata": {
        "id": "9TM0nkNbkhfM"
      },
      "source": [
        "# import the preprocessing libs for standarization and basis expansion\n",
        "from sklearn.preprocessing import StandardScaler, PolynomialFeatures \n",
        "\n",
        "# Ridge and Lasso linear model\n",
        "from sklearn.linear_model import Ridge, Lasso "
      ],
      "execution_count": null,
      "outputs": []
    },
    {
      "cell_type": "markdown",
      "metadata": {
        "id": "pCwBPuOXlRF7"
      },
      "source": [
        "### **Task 9**\n",
        "Let's implement the function for expanding the basis of the dataset. \n",
        "\n",
        "Hints: use `PolynomialFeatures`"
      ]
    },
    {
      "cell_type": "code",
      "metadata": {
        "id": "50azFolql1qA"
      },
      "source": [
        "def expand_basis(X, degree):\n",
        "    # TODO: expand the basis of X for the input degree\n",
        "    # The code below is just for compilation. \n",
        "    # You need to replace it by your own code.\n",
        "    ###################################################\n",
        "    ##### YOUR CODE STARTS HERE #######################\n",
        "    ###################################################\n",
        "    # Hints: use the function PolynomialFeatures\n",
        "    return X\n",
        "    ###################################################\n",
        "    ##### YOUR CODE ENDS HERE #########################\n",
        "    ###################################################"
      ],
      "execution_count": null,
      "outputs": []
    },
    {
      "cell_type": "markdown",
      "metadata": {
        "id": "6jwkPevimQri"
      },
      "source": [
        "### **Task 10**\n",
        "We need to expand and standardize the the data,\n",
        "and prepare the training, test and validation data on the expanded data. \n",
        "You should set the last 20% of the training data as the validation data.\n",
        "\n",
        "Hints: use `StandardScaler` and `std_scaler` to standardize the data"
      ]
    },
    {
      "cell_type": "code",
      "metadata": {
        "id": "dQCq4G9YmW7w"
      },
      "source": [
        "def prepare_data(X, y, degree):\n",
        "    # TODO: the training, test and validation data using the expanded dataset.\n",
        "    # The code below is just for compilation. \n",
        "    # You need to replace it by your own code.\n",
        "    ###################################################\n",
        "    ##### YOUR CODE STARTS HERE #######################\n",
        "    ###################################################\n",
        "    # Hints: follow the steps     \n",
        "    # 1. split the data (X, y) into training data (X_train, y_train) and test data (X_test, y_test)\n",
        "    # 2. standardize the training data and do the same transformation to the test data\n",
        "    # 3. expand the basis of the training data and test data\n",
        "    # 4. split the expanded training data into training data (X_train_n, y_train_n) and validation data (X_train_v, y_train_v)\n",
        "    # 5. standardize the training data and do the same transformation to the validation data\n",
        "    \n",
        "    \n",
        "    # training data\n",
        "    X_train = X\n",
        "    y_train = y\n",
        "\n",
        "    # test data\n",
        "    X_test = X \n",
        "    y_test = y\n",
        "\n",
        "\n",
        "    # further split the training data to training and validation data\n",
        "    # training data\n",
        "    X_train_n = X \n",
        "    y_train_n = y\n",
        "\n",
        "    # validation data\n",
        "    X_train_v = X \n",
        "    y_train_v = y\n",
        "\n",
        "    return X_train, y_train, X_train_n, y_train_n, X_train_v, y_train_v, X_test, y_test\n",
        "    ###################################################\n",
        "    ##### YOUR CODE ENDS HERE #########################\n",
        "    ###################################################\n",
        "\n",
        "X_train, y_train, X_train_n, y_train_n, X_train_v, y_train_v, X_test, y_test = prepare_data(X, y, 2) # here we expand the dataset with degree 2"
      ],
      "execution_count": null,
      "outputs": []
    },
    {
      "cell_type": "markdown",
      "metadata": {
        "id": "LE0B8azfC5Hm"
      },
      "source": [
        "**Why standardisation is required before basis expansion?**\n",
        "\n",
        "Assume we have a dataset with two features x1 and x2, where x1 has a small scale while x2 has a large scale. When we perform basis expansion, we  get a new feature x1x2. Since x2 has a larger scale than x1, it is likely x2 will contribute more to the value of the new feature x1x2, which means a bias is introduce here. \n",
        "The correct way is to standardise the features before the basis expansion. In this case x1 and x2 have the same scale, so they contribute same to the new feature x1x2, i.e. no bias is introduced. \n",
        "\n",
        "\n",
        "**Why standardise the training data in step 5?**\n",
        "\n",
        "Ridge and Lasso regularisation require the data to have mean of 0 and standard deviation of 1. However, after the basis expansion and splitting in step 4, the training data might not have the desired distribution, so we need to perform the standardisation on the training data. \n",
        "\n",
        " \n",
        "**Why not standardise both training and validation data together?**\n",
        "\n",
        "When we use validation data to chose the hyperparameters, we treat the validation data like the test data -- we should not assume we can access these data. So we should standardise the training data and perform the same operation to the validation data. "
      ]
    },
    {
      "cell_type": "markdown",
      "metadata": {
        "id": "i3BxxtM3nghU"
      },
      "source": [
        "### **Task 11**\n",
        "We have prepared the training data and the validation data. We can now choose the hyperparameter lambda for Ridge and Lasso using the validation data. \n",
        "We use the Ridge and Lasso models from scikit-learn: https://scikit-learn.org/stable/modules/generated/sklearn.linear_model.Ridge.html\n",
        "\n",
        "We train Ridge or Lasso models with different lambda values and check their performance on the validation data.\n",
        "The lambda value that results the best performance is then the optimal lambda. "
      ]
    },
    {
      "cell_type": "code",
      "metadata": {
        "colab": {
          "base_uri": "https://localhost:8080/",
          "height": 555
        },
        "id": "SvXcAGW1oHq1",
        "outputId": "25a38d1f-013f-4b0a-9cbb-3f08b68c0371"
      },
      "source": [
        "# The function takes the training and validation data as inputs, and \n",
        "# returns the lambda value that results the minimal mse\n",
        "# We use is_ridge to indicate which the model is considered.\n",
        "# is_ridge = True indicates Ridge while is_ridge = False indicates Lasso\n",
        "def choose_hyper_param(X_train_n, y_train_n, X_train_v, y_train_v, is_ridge: bool):\n",
        "    mse_arr = []\n",
        "    lam_arr = []\n",
        "\n",
        "    # Try lambda values from 10^-4 to 10^2. \n",
        "    # Record the mse and the lambda values in mse_arr and lam_arr\n",
        "    # The code below is just for compilation. \n",
        "    # You need to replace it by your own code.\n",
        "    ###################################################\n",
        "    ##### YOUR CODE STARTS HERE #######################\n",
        "    ###################################################\n",
        "    for pow_lam in range(-4, 2):\n",
        "        lam = 10 ** pow_lam\n",
        "        mse = 0 # compute the mse for this lam\n",
        "        mse_arr.append(mse) \n",
        "        lam_arr.append(lam)\n",
        "    ###################################################\n",
        "    ##### YOUR CODE ENDS HERE #########################\n",
        "    ###################################################\n",
        "\n",
        "\n",
        "    # get the index of the lambda value that has the minimal use\n",
        "    lambda_idx_min = np.argmin(np.array(mse_arr))\n",
        "\n",
        "    # plot of the lambda values and their mse\n",
        "    plt.figure()\n",
        "    plt.semilogx(lam_arr, mse_arr)\n",
        "\n",
        "    # return the optimal lambda value\n",
        "    return lam_arr[lambda_idx_min]\n",
        "\n",
        "# call the function to choose the lambda for Ridge and Lasso\n",
        "lam_ridge = choose_hyper_param(X_train_n, y_train_n, X_train_v, y_train_v, True)\n",
        "lam_lasso = choose_hyper_param(X_train_n, y_train_n, X_train_v, y_train_v, False)\n",
        "\n",
        "print(\"Ridge lambda:\", lam_ridge)\n",
        "print(\"Lasso lambda:\", lam_lasso)"
      ],
      "execution_count": null,
      "outputs": [
        {
          "name": "stdout",
          "output_type": "stream",
          "text": [
            "Ridge lambda: 0.01\n",
            "Lasso lambda: 0.01\n"
          ]
        },
        {
          "data": {
            "image/png": "[encoded data removed]",
            "text/plain": [
              "<Figure size 432x288 with 1 Axes>"
            ]
          },
          "metadata": {
            "needs_background": "light",
            "tags": []
          },
          "output_type": "display_data"
        },
        {
          "data": {
            "image/png": "[encoded data removed]",
            "text/plain": [
              "<Figure size 432x288 with 1 Axes>"
            ]
          },
          "metadata": {
            "needs_background": "light",
            "tags": []
          },
          "output_type": "display_data"
        }
      ]
    },
    {
      "cell_type": "markdown",
      "metadata": {
        "id": "FAuX0uU5k9qD"
      },
      "source": [
        "### **Task 12**:\n",
        "Once you’ve obtained the optimal lambdas for Ridge and Lasso, train these models using these lambdas on the full training data. Then report\n",
        "the training and test error."
      ]
    },
    {
      "cell_type": "code",
      "metadata": {
        "id": "VmwHESkg77zK"
      },
      "source": [
        "# TODO: train the Ridge and Lasso models using the optimal parameters, and\n",
        "#       report their MSE\n",
        "###################################################\n",
        "##### YOUR CODE STARTS HERE #######################\n",
        "###################################################\n",
        "# Hints: train these models on the full training data\n",
        "mse_ridge_train = 0\n",
        "mse_ridge_test = 0\n",
        "mse_lasso_train = 0\n",
        "mse_lasso_test = 0\n",
        "###################################################\n",
        "##### YOUR CODE ENDS HERE #########################\n",
        "###################################################\n",
        "\n",
        "# Report the result\n",
        "print('For Ridge Regression with using degree %d polynomial expansion and lambda = %.4f' % (lam_ridge, lam_ridge))\n",
        "print('--------------------------------------------------------------------------------\\n')\n",
        "print('MSE (Training) = %.4f' % mse_ridge_train)\n",
        "print('MSE (Testing)  = %.4f' % mse_ridge_test)\n",
        "\n",
        "print('\\n\\nFor Lasso with using degree %d polynomial expansion and lambda = %.4f' % (lam_lasso, lam_lasso))\n",
        "print('---------------------------------------------------------------------\\n')\n",
        "print('MSE (Training) = %.4f' % mse_lasso_train)\n",
        "print('MSE (Testing)  = %.4f' % mse_lasso_test)"
      ],
      "execution_count": null,
      "outputs": []
    },
    {
      "cell_type": "markdown",
      "metadata": {
        "id": "Os9tKKLd8gMU"
      },
      "source": [
        "## Optional: Try Larger Degrees using K-fold Cross Validation\n",
        "\n"
      ]
    },
    {
      "cell_type": "markdown",
      "metadata": {
        "id": "sfqRAlv1PBXi"
      },
      "source": [
        "### **Task 13**\n",
        "This is an optional task, which worths 5 bonus poitns.\n",
        "\n",
        "The task is to try basis expansions with higher degrees (up to degree 4) and find the degree that results the best performance. \n",
        "Instead of always using the same validation set, you should use k-fold cross validation to find the optimal hyperparameters. \n",
        "You should report the optimal hyperparameters (the basis expansion degree and the lambdas) and the MSE of the Ridge and Lasso when you apply the optimal hyperparameters. \n",
        "\n",
        "Hints: Use `KFold` to do this automatically. "
      ]
    },
    {
      "cell_type": "code",
      "metadata": {
        "id": "kpwY7UtQ8l-0"
      },
      "source": [
        "# KFold\n",
        "from sklearn.model_selection import KFold\n",
        "\n",
        "# TODO: Try using higher degree basis expansion. Find the degree that gives the minimal mse. \n",
        "###################################################\n",
        "##### YOUR CODE STARTS HERE #######################\n",
        "###################################################\n",
        "\n",
        "\n",
        "###################################################\n",
        "##### YOUR CODE ENDS HERE #########################\n",
        "###################################################"
      ],
      "execution_count": null,
      "outputs": []
    },
    {
      "cell_type": "code",
      "metadata": {
        "id": "FkqQkBQkEmtp",
        "outputId": "b713c704-7e74-4b8d-9534-dd91a38de147",
        "colab": {
          "base_uri": "https://localhost:8080/"
        }
      },
      "source": [
        "print(2+3)"
      ],
      "execution_count": 1,
      "outputs": [
        {
          "output_type": "stream",
          "name": "stdout",
          "text": [
            "5\n"
          ]
        }
      ]
    }
  ]
}